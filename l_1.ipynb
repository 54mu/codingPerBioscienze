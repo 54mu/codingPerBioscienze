{
 "cells": [
  {
   "cell_type": "markdown",
   "metadata": {},
   "source": [
    "# Introduzione\n",
    "Python è un linguaggio interpretato, cioè il codice non viene tradotto in linguaggio macchina per creare un eseguibile, ma piuttosto intepretato quasi riga per riga in maniera sequenziale. Grazie a Ipyton e jupyter possiamo avere delle \"celle\" in cui eseguire blocchi di codice separati in un ambiente globale, e vedere eventuali risultati passo passo. "
   ]
  },
  {
   "cell_type": "markdown",
   "metadata": {},
   "source": [
    "# tipi di dato e variabili\n",
    "\n",
    "## tipi base\n",
    "per tipo intendiamo letteralmente il tipo di valore che vogliamo trattare. Per esempio un tipo **intero** può contenere solo numeri interi, un tipo **float** solo numeri a virgola mobile e così via.\n",
    "\n",
    "Vediamo un primo esempio nella prossima cella:"
   ]
  },
  {
   "cell_type": "code",
   "execution_count": 1,
   "metadata": {},
   "outputs": [
    {
     "data": {
      "text/plain": [
       "42"
      ]
     },
     "execution_count": 1,
     "metadata": {},
     "output_type": "execute_result"
    }
   ],
   "source": [
    "42"
   ]
  },
  {
   "cell_type": "markdown",
   "metadata": {},
   "source": [
    "eseguiendo il solo **42** python ha valutato l'espressione nella riga e restituito istantaneamente il suo valore, cioè 42. Chiamiamo i valori espliciti come questo **letterali**."
   ]
  },
  {
   "cell_type": "code",
   "execution_count": 2,
   "metadata": {},
   "outputs": [
    {
     "data": {
      "text/plain": [
       "int"
      ]
     },
     "execution_count": 2,
     "metadata": {},
     "output_type": "execute_result"
    }
   ],
   "source": [
    "type(42)"
   ]
  },
  {
   "cell_type": "markdown",
   "metadata": {},
   "source": [
    "la funzione type ci permette di vedere il tipo restituito da un'espressione. In questo caso il letterale 42 risulta essere di tipo intero. Questo perchè python cerca di associare un letterale al tipo più rappresentativo possibile in automatico. Vediamo un esempio con un numero a vigola mobile, cioè di tipo **float**. "
   ]
  },
  {
   "cell_type": "code",
   "execution_count": 3,
   "metadata": {},
   "outputs": [
    {
     "data": {
      "text/plain": [
       "float"
      ]
     },
     "execution_count": 3,
     "metadata": {},
     "output_type": "execute_result"
    }
   ],
   "source": [
    "type(42.2)"
   ]
  },
  {
   "cell_type": "markdown",
   "metadata": {},
   "source": [
    "Un altro tipo base molto utile è la **stringa**, di tipo **str**"
   ]
  },
  {
   "cell_type": "code",
   "execution_count": 4,
   "metadata": {},
   "outputs": [
    {
     "data": {
      "text/plain": [
       "str"
      ]
     },
     "execution_count": 4,
     "metadata": {},
     "output_type": "execute_result"
    }
   ],
   "source": [
    "type(\"gatto\")"
   ]
  },
  {
   "cell_type": "markdown",
   "metadata": {},
   "source": [
    "Il letterale stringa si esplicita includendo il valore tra caratteri **\"** oppure **'**"
   ]
  },
  {
   "cell_type": "code",
   "execution_count": 6,
   "metadata": {},
   "outputs": [
    {
     "data": {
      "text/plain": [
       "str"
      ]
     },
     "execution_count": 6,
     "metadata": {},
     "output_type": "execute_result"
    }
   ],
   "source": [
    "type('gatto')"
   ]
  },
  {
   "cell_type": "markdown",
   "metadata": {},
   "source": [
    "Un ultimo tipo base molto importante e utile è il tipo **bool**, che può assumere solo valori **True** o **False**, occupando di fatto un singolo bit in memoria. Occhio alle maiuscole! di fatti True e False sono un esempio di parole riservate, cioè hanno il solo scopo e uso di rappresentare un valore di verità e non possono essere usate come nome di variabili."
   ]
  },
  {
   "cell_type": "code",
   "execution_count": 8,
   "metadata": {},
   "outputs": [
    {
     "data": {
      "text/plain": [
       "bool"
      ]
     },
     "execution_count": 8,
     "metadata": {},
     "output_type": "execute_result"
    }
   ],
   "source": [
    "type(True)"
   ]
  },
  {
   "cell_type": "code",
   "execution_count": 9,
   "metadata": {},
   "outputs": [
    {
     "data": {
      "text/plain": [
       "bool"
      ]
     },
     "execution_count": 9,
     "metadata": {},
     "output_type": "execute_result"
    }
   ],
   "source": [
    "type(False)"
   ]
  },
  {
   "cell_type": "markdown",
   "metadata": {},
   "source": [
    "## Tipi complessi\n",
    "Oltre ai tipi base, visti prima (non sono tutti ma sono i più utili) esistono tipi complessi (o composti) che possono avere funzionalità diverse. Iniziamo con le **liste** di tipo **list**"
   ]
  },
  {
   "cell_type": "code",
   "execution_count": 10,
   "metadata": {},
   "outputs": [
    {
     "data": {
      "text/plain": [
       "[1, 2, 5, 2.3, 'gatto', 'cipolla', True]"
      ]
     },
     "execution_count": 10,
     "metadata": {},
     "output_type": "execute_result"
    }
   ],
   "source": [
    "[1, 2, 5, 2.3, \"gatto\", \"cipolla\", True]"
   ]
  },
  {
   "cell_type": "code",
   "execution_count": 11,
   "metadata": {},
   "outputs": [
    {
     "data": {
      "text/plain": [
       "list"
      ]
     },
     "execution_count": 11,
     "metadata": {},
     "output_type": "execute_result"
    }
   ],
   "source": [
    "type([1, 2, 5, 2.3, \"gatto\", \"cipolla\", True])"
   ]
  },
  {
   "cell_type": "markdown",
   "metadata": {},
   "source": [
    "delimitando tra **[  ]** una lista di letterali separati da virgole abbiamo creato un letterale di tipo lista, che è un **iterabile** (vedremo più avanti) che ha le caratteristiche di essere **ordinato** e **mutabile**"
   ]
  },
  {
   "cell_type": "markdown",
   "metadata": {},
   "source": [
    "fino ad ora abbiamo eseguito singole linee di codice che restituivano un risultato. I letterali restituiscono sè stessi, mentre la funzione type ci ha restituito il tipo del letterale che abbiamo inserito tra le parentesi tonde."
   ]
  },
  {
   "cell_type": "code",
   "execution_count": null,
   "metadata": {},
   "outputs": [],
   "source": []
  }
 ],
 "metadata": {
  "kernelspec": {
   "display_name": "Python 3",
   "language": "python",
   "name": "python3"
  },
  "language_info": {
   "codemirror_mode": {
    "name": "ipython",
    "version": 3
   },
   "file_extension": ".py",
   "mimetype": "text/x-python",
   "name": "python",
   "nbconvert_exporter": "python",
   "pygments_lexer": "ipython3",
   "version": "3.8.3"
  }
 },
 "nbformat": 4,
 "nbformat_minor": 4
}
