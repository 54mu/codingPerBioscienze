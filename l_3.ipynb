{
 "cells": [
  {
   "cell_type": "markdown",
   "metadata": {},
   "source": [
    "# Loop\n",
    "Grazie ai loop o cicli si può iterare un blocco di codice quante volte si vuole, da 0 ad infinito in base alla necessità ed in base al tipo di loop implementato.\n",
    "\n",
    "I due loop principali in python sono **while** e **for**.\n",
    "\n",
    "## While loop\n",
    "Il while loop è una sorta di **if** speciale, infatti viene verificata una condizione e finchè questa rimane vera il blocco di codice sotteso viene eseguito. Il while loop si scrive con la sintassi\n",
    "```python\n",
    "while condizione:\n",
    "    # codice da eseguire\n",
    "    # fino a che la condizione\n",
    "    # rimane vera\n",
    "else:\n",
    "    # blocco non obbligatorio\n",
    "    # viene eseguito una sola volta \n",
    "    # quando la condizione è falsa\n",
    "```\n",
    "---\n",
    "**NOTE**\n",
    "\n",
    "se la condizione dovesse rimanere sempre vera si verificherebbe un ciclo infinito\n",
    "\n",
    "---"
   ]
  },
  {
   "cell_type": "code",
   "execution_count": 2,
   "metadata": {},
   "outputs": [
    {
     "name": "stdout",
     "output_type": "stream",
     "text": [
      "0\n",
      "1\n",
      "2\n",
      "3\n",
      "4\n",
      "5\n",
      "6\n",
      "7\n",
      "8\n",
      "9\n",
      "non so contare fino a 10\n"
     ]
    }
   ],
   "source": [
    "i = 0\n",
    "while i < 10:\n",
    "    print (i)\n",
    "    i+=1\n",
    "else:\n",
    "    print(\"non so contare fino a\", i)"
   ]
  },
  {
   "cell_type": "markdown",
   "metadata": {},
   "source": [
    "## For loop\n",
    "In python il loop for esegue il suo blocco di codice ciclando su una sequenza, che può essere qualsiasi oggetto che è \"iterabile\". Iterabili famosi sono:\n",
    "+ liste\n",
    "+ tuple\n",
    "+ set\n",
    "+ stringhe\n",
    "\n",
    "la sintassi di un for loop in python è\n",
    "```python\n",
    "for elemento in iterabile:\n",
    "    # operazioni\n",
    "    # da fare per ogni\n",
    "    # elemento di iterabile\n",
    "```\n",
    "ad ogni passaggio il valore di **elemento** sarà aggiornato all'elemento successivo dell'iterabile fino a che non saranno esauriti tutti gli elementi."
   ]
  },
  {
   "cell_type": "code",
   "execution_count": 3,
   "metadata": {},
   "outputs": [
    {
     "name": "stdout",
     "output_type": "stream",
     "text": [
      "gelato\n",
      "banana\n",
      "anguria\n",
      "cefalopodi\n"
     ]
    }
   ],
   "source": [
    "lista = [\"gelato\", \"banana\", \"anguria\", \"cefalopodi\"]\n",
    "for element in lista:\n",
    "    print(element)"
   ]
  },
  {
   "cell_type": "code",
   "execution_count": 6,
   "metadata": {},
   "outputs": [
    {
     "name": "stdout",
     "output_type": "stream",
     "text": [
      "cefalopodi\n",
      "gelato\n",
      "anguria\n",
      "banana\n"
     ]
    }
   ],
   "source": [
    "for element in set(lista):\n",
    "    print(element)"
   ]
  },
  {
   "cell_type": "markdown",
   "metadata": {},
   "source": [
    "I dizionari iterano di default sulle chiavi"
   ]
  },
  {
   "cell_type": "code",
   "execution_count": 1,
   "metadata": {},
   "outputs": [
    {
     "name": "stdout",
     "output_type": "stream",
     "text": [
      "a\n",
      "b\n"
     ]
    }
   ],
   "source": [
    "d = {\"a\":\"arancione\", \"b\":\"blu\"}\n",
    "for elemento in d:\n",
    "    print(elemento)"
   ]
  },
  {
   "cell_type": "code",
   "execution_count": 2,
   "metadata": {},
   "outputs": [
    {
     "name": "stdout",
     "output_type": "stream",
     "text": [
      "arancione\n",
      "blu\n"
     ]
    }
   ],
   "source": [
    "for elemento in d.values():\n",
    "    print(elemento)"
   ]
  },
  {
   "cell_type": "code",
   "execution_count": 4,
   "metadata": {},
   "outputs": [],
   "source": [
    "lista_di_tuple=[(1,\"uno\"),(2,\"due\"),(3,\"tre\")]"
   ]
  },
  {
   "cell_type": "code",
   "execution_count": 6,
   "metadata": {},
   "outputs": [
    {
     "name": "stdout",
     "output_type": "stream",
     "text": [
      "1\n",
      "uno\n",
      "2\n",
      "due\n",
      "3\n",
      "tre\n"
     ]
    }
   ],
   "source": [
    "for cifra, lettere in lista_di_tuple:\n",
    "    print(cifra)\n",
    "    print(lettere)"
   ]
  },
  {
   "cell_type": "code",
   "execution_count": 7,
   "metadata": {},
   "outputs": [
    {
     "name": "stdout",
     "output_type": "stream",
     "text": [
      "(1, 'uno')\n",
      "(2, 'due')\n",
      "(3, 'tre')\n"
     ]
    }
   ],
   "source": [
    "for cifra in lista_di_tuple:\n",
    "    print(cifra)"
   ]
  },
  {
   "cell_type": "markdown",
   "metadata": {},
   "source": [
    "## interrompere loop con break e continue\n",
    "in alcuni casi può essere necessario interrompere un loop prima del normale in modo da evitare di ripetere inutilmente l'esecuzione del blocco di codice. Le espressioni **break** e **continue** servono proprio a questo, ma interrompono i cicli in modo diverso:\n",
    "+ **break** interrompe completamete il ciclo in cui viene chiamato e il blocco di codice non viene più eseguito\n",
    "+ **continue** interrompe l'esecuzione della singola iterazione in corso nel momento in cui viene chiamato.\n",
    "\n",
    "\n",
    "Break in un flowchart si può rappresentare come:\n",
    "![break_flowchart](https://media.geeksforgeeks.org/wp-content/uploads/break.png)\n",
    "\n",
    "Esempio di break:\n",
    "> in una lista cercare un valore e restituire la sua posizione\n",
    "\n",
    "in questo caso scorreremo semplicemente la lista e stamperemo a video la prima posizione del valore cercato:"
   ]
  },
  {
   "cell_type": "code",
   "execution_count": 9,
   "metadata": {},
   "outputs": [
    {
     "name": "stdout",
     "output_type": "stream",
     "text": [
      "9\n"
     ]
    }
   ],
   "source": [
    "lista = [1,2,54,12,65,23,78,12,65,24,78,23,45,5,76,34]\n",
    "i = 0\n",
    "da_trovare = 24\n",
    "while i < len(lista):\n",
    "    if lista[i] == da_trovare:\n",
    "        print(i)\n",
    "        break\n",
    "    else:\n",
    "        i += 1"
   ]
  },
  {
   "cell_type": "markdown",
   "metadata": {},
   "source": [
    "in questo modo i non ha raggiunto il valore massimo raggiungibile nel ciclo while, e le iterazioni inutili sono state evitate. In un flowchart sarebbe:\n",
    "\n",
    "![flowchart_continue](https://media.geeksforgeeks.org/wp-content/uploads/continue.png)\n",
    "\n",
    "esempio di continue:\n",
    "> stampare tutti i valori della lista maggiori di 10\n"
   ]
  },
  {
   "cell_type": "code",
   "execution_count": 10,
   "metadata": {},
   "outputs": [
    {
     "name": "stdout",
     "output_type": "stream",
     "text": [
      "54\n",
      "12\n",
      "65\n",
      "23\n",
      "78\n",
      "12\n",
      "65\n",
      "24\n",
      "78\n",
      "23\n",
      "45\n",
      "76\n",
      "34\n"
     ]
    }
   ],
   "source": [
    "lista = [1,2,54,12,65,23,78,12,65,24,78,23,45,5,76,34]\n",
    "for element in lista:\n",
    "    if element <= 10:\n",
    "        continue\n",
    "    print(element)"
   ]
  }
 ],
 "metadata": {
  "kernelspec": {
   "display_name": "Python 3",
   "language": "python",
   "name": "python3"
  },
  "language_info": {
   "codemirror_mode": {
    "name": "ipython",
    "version": 3
   },
   "file_extension": ".py",
   "mimetype": "text/x-python",
   "name": "python",
   "nbconvert_exporter": "python",
   "pygments_lexer": "ipython3",
   "version": "3.8.3"
  }
 },
 "nbformat": 4,
 "nbformat_minor": 2
}
