{
 "cells": [
  {
   "cell_type": "markdown",
   "metadata": {},
   "source": [
    "# Funzioni\n",
    "grazie alle funzioni si può dare un nome ad un blocco di codice che serve a svolgere appunto una specifica funzione. La struttura di una funzione al momento della chiamata (quando viene eseguita) è:\n",
    "```python\n",
    "nome(parametri)\n",
    "```"
   ]
  },
  {
   "cell_type": "code",
   "execution_count": 1,
   "metadata": {},
   "outputs": [
    {
     "name": "stdout",
     "output_type": "stream",
     "text": [
      "ciao!\n"
     ]
    }
   ],
   "source": [
    "print(\"ciao!\")"
   ]
  },
  {
   "cell_type": "markdown",
   "metadata": {},
   "source": [
    "In questo esempio la funzione print prende come parametro la stringa \"ciao\" e la invia al flusso standard di output, che normalmente viene mostrato a video.\n",
    "\n",
    "Oltre ai letterali una funzione può ricevere come parametro qualsiasi espressione che infine viene valutata ad un valore come una variabile:"
   ]
  },
  {
   "cell_type": "code",
   "execution_count": 2,
   "metadata": {},
   "outputs": [
    {
     "name": "stdout",
     "output_type": "stream",
     "text": [
      "ciao\n"
     ]
    }
   ],
   "source": [
    "a = \"ciao\"\n",
    "print(a)"
   ]
  },
  {
   "cell_type": "markdown",
   "metadata": {},
   "source": [
    "## Creare una funzione\n",
    "Per definire una nuova funzione si usa la seguente struttura:\n",
    "```python\n",
    "def nome(parametri):\n",
    "    ...\n",
    "    return valore\n",
    "```\n",
    "la parola def è una parola riservata (non si può usare come nome di variabili o funzioni) e serve a specificare la creazione di una nuova funzione. I parametri possono essere 0 e più, mentre l'espressione **return** serve nel caso in cui si volesse avere un valore restituito dalla funzione (cioè la maggior parte dei casi).\n",
    "\n",
    "Immaginiamo di voler risolvere il seguente problema:\n",
    "> dati due numeri calcolare la proporzione del primo rispetto al secondo in percentuale\n",
    "\n",
    "la soluzione più intuitiva sarebbe (con 5 e 42 come esempi):"
   ]
  },
  {
   "cell_type": "code",
   "execution_count": 1,
   "metadata": {},
   "outputs": [],
   "source": [
    "dividendo = 5\n",
    "divisore = 42\n",
    "proporzione = dividendo/divisore\n",
    "percentuale = proporzione * 100"
   ]
  },
  {
   "cell_type": "code",
   "execution_count": 2,
   "metadata": {},
   "outputs": [
    {
     "data": {
      "text/plain": [
       "11.904761904761903"
      ]
     },
     "execution_count": 2,
     "metadata": {},
     "output_type": "execute_result"
    }
   ],
   "source": [
    "percentuale"
   ]
  },
  {
   "cell_type": "markdown",
   "metadata": {},
   "source": [
    "un modo più veloce potrebbe essere fare tutto in un unico passaggio ed evitare la variabile **proporzione** con"
   ]
  },
  {
   "cell_type": "code",
   "execution_count": 3,
   "metadata": {},
   "outputs": [],
   "source": [
    "dividendo = 5\n",
    "divisore = 42\n",
    "percentuale = dividendo/divisore * 100"
   ]
  },
  {
   "cell_type": "markdown",
   "metadata": {},
   "source": [
    "abbiamo risparmato una riga, ma grazie ad una funzione possiamo rendere più portabile e astratto questo blocco di codice: "
   ]
  },
  {
   "cell_type": "code",
   "execution_count": 4,
   "metadata": {},
   "outputs": [],
   "source": [
    "def calcola_percentuale(dividendo, divisore):\n",
    "    return dividendo / divisore * 100"
   ]
  },
  {
   "cell_type": "code",
   "execution_count": 5,
   "metadata": {},
   "outputs": [
    {
     "data": {
      "text/plain": [
       "11.904761904761903"
      ]
     },
     "execution_count": 5,
     "metadata": {},
     "output_type": "execute_result"
    }
   ],
   "source": [
    "calcola_percentuale(5,42)"
   ]
  },
  {
   "cell_type": "markdown",
   "metadata": {},
   "source": [
    "A questo punto nulla ci vieta di passare qualsiasi coppia di valori alla funzione appena creata e di salvare il suo valore di **return** in una variabile!  "
   ]
  },
  {
   "cell_type": "code",
   "execution_count": 9,
   "metadata": {},
   "outputs": [],
   "source": [
    "a = calcola_percentuale(34, 35)"
   ]
  },
  {
   "cell_type": "code",
   "execution_count": 8,
   "metadata": {},
   "outputs": [
    {
     "data": {
      "text/plain": [
       "97.14285714285714"
      ]
     },
     "execution_count": 8,
     "metadata": {},
     "output_type": "execute_result"
    }
   ],
   "source": [
    "a"
   ]
  },
  {
   "cell_type": "markdown",
   "metadata": {},
   "source": [
    "I parametri di una funzione non devono per forza essere letterali, ma possono anche essere espressioni che restistituiscano un valore compatibile con i tipi usati come parametri, anche un'altra funzione!"
   ]
  },
  {
   "cell_type": "code",
   "execution_count": 13,
   "metadata": {},
   "outputs": [
    {
     "data": {
      "text/plain": [
       "61.38107416879796"
      ]
     },
     "execution_count": 13,
     "metadata": {},
     "output_type": "execute_result"
    }
   ],
   "source": [
    "calcola_percentuale(calcola_percentuale(12,23), 85)"
   ]
  },
  {
   "cell_type": "markdown",
   "metadata": {},
   "source": [
    "si possono eventualmente anche definire valori di default per i parametri, in modo da non renderne obbligatorio il passaggio al momento della chiamata della funzione. Quando un parametro ha un valore di default è possibile passarlo sia rispettando l'ordine stabilito alla creazione della funzione, sia nomenando direttamente il parametro (si chiama \"keyword argument\")."
   ]
  },
  {
   "cell_type": "code",
   "execution_count": 14,
   "metadata": {},
   "outputs": [],
   "source": [
    "def dividi(numeratore, denominatore=2):\n",
    "    return numeratore/denominatore"
   ]
  },
  {
   "cell_type": "code",
   "execution_count": 15,
   "metadata": {},
   "outputs": [
    {
     "data": {
      "text/plain": [
       "3.0"
      ]
     },
     "execution_count": 15,
     "metadata": {},
     "output_type": "execute_result"
    }
   ],
   "source": [
    "dividi(6)"
   ]
  },
  {
   "cell_type": "code",
   "execution_count": 16,
   "metadata": {},
   "outputs": [
    {
     "data": {
      "text/plain": [
       "8.0"
      ]
     },
     "execution_count": 16,
     "metadata": {},
     "output_type": "execute_result"
    }
   ],
   "source": [
    "dividi(32, 4)"
   ]
  },
  {
   "cell_type": "code",
   "execution_count": 18,
   "metadata": {},
   "outputs": [
    {
     "data": {
      "text/plain": [
       "5.333333333333333"
      ]
     },
     "execution_count": 18,
     "metadata": {},
     "output_type": "execute_result"
    }
   ],
   "source": [
    "dividi(32,denominatore=6)"
   ]
  },
  {
   "cell_type": "code",
   "execution_count": 20,
   "metadata": {},
   "outputs": [],
   "source": [
    "def saluta():\n",
    "    print(\"ciao!\")"
   ]
  },
  {
   "cell_type": "code",
   "execution_count": 22,
   "metadata": {},
   "outputs": [
    {
     "name": "stdout",
     "output_type": "stream",
     "text": [
      "ciao!\n"
     ]
    }
   ],
   "source": [
    "saluta()"
   ]
  },
  {
   "cell_type": "code",
   "execution_count": 26,
   "metadata": {},
   "outputs": [
    {
     "name": "stdout",
     "output_type": "stream",
     "text": [
      "ciao!\n"
     ]
    }
   ],
   "source": [
    "a = saluta()"
   ]
  },
  {
   "cell_type": "code",
   "execution_count": 30,
   "metadata": {},
   "outputs": [],
   "source": [
    "a = saluta"
   ]
  },
  {
   "cell_type": "code",
   "execution_count": 31,
   "metadata": {},
   "outputs": [
    {
     "data": {
      "text/plain": [
       "<function __main__.saluta()>"
      ]
     },
     "execution_count": 31,
     "metadata": {},
     "output_type": "execute_result"
    }
   ],
   "source": [
    "a"
   ]
  },
  {
   "cell_type": "code",
   "execution_count": 32,
   "metadata": {},
   "outputs": [
    {
     "name": "stdout",
     "output_type": "stream",
     "text": [
      "ciao!\n"
     ]
    }
   ],
   "source": [
    "a()"
   ]
  },
  {
   "cell_type": "markdown",
   "metadata": {},
   "source": [
    "## selezione e iterazione"
   ]
  },
  {
   "cell_type": "code",
   "execution_count": 5,
   "metadata": {},
   "outputs": [
    {
     "name": "stdout",
     "output_type": "stream",
     "text": [
      "no\n"
     ]
    }
   ],
   "source": [
    "if 3 > 3 :\n",
    "    print(\"yes!\")\n",
    "else:\n",
    "    print(\"no\")"
   ]
  },
  {
   "cell_type": "code",
   "execution_count": 7,
   "metadata": {},
   "outputs": [
    {
     "data": {
      "text/plain": [
       "bool"
      ]
     },
     "execution_count": 7,
     "metadata": {},
     "output_type": "execute_result"
    }
   ],
   "source": [
    "type(3 > 3)"
   ]
  },
  {
   "cell_type": "code",
   "execution_count": 8,
   "metadata": {},
   "outputs": [
    {
     "name": "stdout",
     "output_type": "stream",
     "text": [
      "no\n"
     ]
    }
   ],
   "source": [
    "if 3 < 3 :\n",
    "    print(\"yes!\")\n",
    "else:\n",
    "    print(\"no\")"
   ]
  },
  {
   "cell_type": "code",
   "execution_count": 9,
   "metadata": {},
   "outputs": [
    {
     "name": "stdout",
     "output_type": "stream",
     "text": [
      "yes!\n"
     ]
    }
   ],
   "source": [
    "if 3 <= 3 :\n",
    "    print(\"yes!\")\n",
    "else:\n",
    "    print(\"no\")"
   ]
  },
  {
   "cell_type": "code",
   "execution_count": 10,
   "metadata": {},
   "outputs": [
    {
     "name": "stdout",
     "output_type": "stream",
     "text": [
      "yes!\n"
     ]
    }
   ],
   "source": [
    "if 3 == 3 :\n",
    "    print(\"yes!\")\n",
    "else:\n",
    "    print(\"no\")"
   ]
  },
  {
   "cell_type": "code",
   "execution_count": 11,
   "metadata": {},
   "outputs": [
    {
     "name": "stdout",
     "output_type": "stream",
     "text": [
      "no\n"
     ]
    }
   ],
   "source": [
    "if 3 != 3 :\n",
    "    print(\"yes!\")\n",
    "else:\n",
    "    print(\"no\")"
   ]
  },
  {
   "cell_type": "code",
   "execution_count": 14,
   "metadata": {},
   "outputs": [],
   "source": [
    "def dimezza(x):\n",
    "    if x > 1:\n",
    "        print(x)\n",
    "        return dimezza(x/2)\n",
    "    else:\n",
    "        return 0"
   ]
  },
  {
   "cell_type": "code",
   "execution_count": 16,
   "metadata": {},
   "outputs": [
    {
     "name": "stdout",
     "output_type": "stream",
     "text": [
      "44\n",
      "22.0\n",
      "11.0\n",
      "5.5\n",
      "2.75\n",
      "1.375\n"
     ]
    },
    {
     "data": {
      "text/plain": [
       "0"
      ]
     },
     "execution_count": 16,
     "metadata": {},
     "output_type": "execute_result"
    }
   ],
   "source": [
    "dimezza(44)"
   ]
  },
  {
   "cell_type": "code",
   "execution_count": 19,
   "metadata": {},
   "outputs": [
    {
     "data": {
      "text/plain": [
       "0"
      ]
     },
     "execution_count": 19,
     "metadata": {},
     "output_type": "execute_result"
    }
   ],
   "source": [
    "4 % 2"
   ]
  },
  {
   "cell_type": "code",
   "execution_count": 23,
   "metadata": {},
   "outputs": [
    {
     "name": "stdout",
     "output_type": "stream",
     "text": [
      "il numero è troppo piccolo\n"
     ]
    }
   ],
   "source": [
    "n = 3\n",
    "if n > 4:\n",
    "    if n % 2 == 0:\n",
    "        print(\"il numero è maggiore di 4 e pari\")\n",
    "else:\n",
    "    print(\"il numero è troppo piccolo\")"
   ]
  },
  {
   "cell_type": "markdown",
   "metadata": {},
   "source": [
    "### operatori logici"
   ]
  },
  {
   "cell_type": "code",
   "execution_count": 24,
   "metadata": {},
   "outputs": [
    {
     "data": {
      "text/plain": [
       "False"
      ]
     },
     "execution_count": 24,
     "metadata": {},
     "output_type": "execute_result"
    }
   ],
   "source": [
    "False and False"
   ]
  },
  {
   "cell_type": "code",
   "execution_count": 25,
   "metadata": {},
   "outputs": [
    {
     "data": {
      "text/plain": [
       "False"
      ]
     },
     "execution_count": 25,
     "metadata": {},
     "output_type": "execute_result"
    }
   ],
   "source": [
    "True and False"
   ]
  },
  {
   "cell_type": "code",
   "execution_count": 26,
   "metadata": {},
   "outputs": [
    {
     "data": {
      "text/plain": [
       "True"
      ]
     },
     "execution_count": 26,
     "metadata": {},
     "output_type": "execute_result"
    }
   ],
   "source": [
    "True and True"
   ]
  },
  {
   "cell_type": "code",
   "execution_count": 27,
   "metadata": {},
   "outputs": [
    {
     "data": {
      "text/plain": [
       "False"
      ]
     },
     "execution_count": 27,
     "metadata": {},
     "output_type": "execute_result"
    }
   ],
   "source": [
    "False or False"
   ]
  },
  {
   "cell_type": "code",
   "execution_count": 28,
   "metadata": {},
   "outputs": [
    {
     "data": {
      "text/plain": [
       "True"
      ]
     },
     "execution_count": 28,
     "metadata": {},
     "output_type": "execute_result"
    }
   ],
   "source": [
    "True or False"
   ]
  },
  {
   "cell_type": "code",
   "execution_count": 29,
   "metadata": {},
   "outputs": [
    {
     "data": {
      "text/plain": [
       "True"
      ]
     },
     "execution_count": 29,
     "metadata": {},
     "output_type": "execute_result"
    }
   ],
   "source": [
    "True or True"
   ]
  },
  {
   "cell_type": "code",
   "execution_count": 31,
   "metadata": {},
   "outputs": [
    {
     "name": "stdout",
     "output_type": "stream",
     "text": [
      "il numero è troppo piccolo o dispari\n"
     ]
    }
   ],
   "source": [
    "n = 101\n",
    "if n > 4 and n % 2 == 0:\n",
    "    print(\"il numero è maggiore di 4 e pari\")\n",
    "else:\n",
    "    print(\"il numero è troppo piccolo o dispari\")"
   ]
  },
  {
   "cell_type": "code",
   "execution_count": 42,
   "metadata": {},
   "outputs": [
    {
     "name": "stdout",
     "output_type": "stream",
     "text": [
      "maggiore o uguale di 4\n"
     ]
    }
   ],
   "source": [
    "n = len(\"zebra\")\n",
    "if n >= 4:\n",
    "    print(\"maggiore o uguale di 4\")\n",
    "elif n%2 == 0:\n",
    "    print(\"minore di 4 ma pari\")\n",
    "elif n == 6:\n",
    "    print(\"è 3\")\n",
    "else:\n",
    "    print(\"culo\")"
   ]
  },
  {
   "cell_type": "markdown",
   "metadata": {},
   "source": [
    "esempio di priorità di and su or"
   ]
  },
  {
   "cell_type": "code",
   "execution_count": 63,
   "metadata": {},
   "outputs": [
    {
     "name": "stdout",
     "output_type": "stream",
     "text": [
      "hello 195\n",
      "hello 190\n",
      "hello 185\n",
      "hello 180\n",
      "hello 175\n",
      "hello 170\n",
      "hello 165\n",
      "hello 160\n",
      "hello 155\n",
      "hello 150\n",
      "hello 145\n",
      "hello 140\n",
      "hello 135\n",
      "hello 130\n",
      "hello 125\n",
      "hello 120\n",
      "hello 115\n",
      "hello 110\n",
      "hello 105\n",
      "hello 100\n",
      "sono fuori dalle condizioni 90\n",
      "sono fuori dalle condizioni 80\n",
      "sono fuori dalle condizioni 70\n",
      "sono fuori dalle condizioni 60\n",
      "sono fuori dalle condizioni 50\n"
     ]
    }
   ],
   "source": [
    "x = 200\n",
    "while x > 50:\n",
    "    if x > 100:\n",
    "        x -= 5\n",
    "        print(\"hello\", x) # in questo momenaoksf ko\n",
    "        continue \n",
    "    else:\n",
    "        x -= 10\n",
    "    print(\"sono fuori dalle condizioni\", x)"
   ]
  },
  {
   "cell_type": "code",
   "execution_count": null,
   "metadata": {},
   "outputs": [],
   "source": []
  }
 ],
 "metadata": {
  "kernelspec": {
   "display_name": "Python 3",
   "language": "python",
   "name": "python3"
  },
  "language_info": {
   "codemirror_mode": {
    "name": "ipython",
    "version": 3
   },
   "file_extension": ".py",
   "mimetype": "text/x-python",
   "name": "python",
   "nbconvert_exporter": "python",
   "pygments_lexer": "ipython3",
   "version": "3.6.7"
  }
 },
 "nbformat": 4,
 "nbformat_minor": 4
}
