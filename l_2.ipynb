{
 "cells": [
  {
   "cell_type": "markdown",
   "metadata": {},
   "source": [
    "# Funzioni\n",
    "grazie alle funzioni si può dare un nome ad un blocco di codice che serve a svolgere appunto una specifica funzione. La struttura di una funzione al momento della chiamata (quando viene eseguita) è:\n",
    "```python\n",
    "nome(parametri)\n",
    "```"
   ]
  },
  {
   "cell_type": "code",
   "execution_count": 1,
   "metadata": {},
   "outputs": [
    {
     "name": "stdout",
     "output_type": "stream",
     "text": [
      "ciao!\n"
     ]
    }
   ],
   "source": [
    "print(\"ciao!\")"
   ]
  },
  {
   "cell_type": "markdown",
   "metadata": {},
   "source": [
    "In questo esempio la funzione print prende come parametro la stringa \"ciao\" e la invia al flusso standard di output, che normalmente viene mostrato a video.\n",
    "\n",
    "Oltre ai letterali una funzione può ricevere come parametro qualsiasi espressione che infine viene valutata ad un valore come una variabile:"
   ]
  },
  {
   "cell_type": "code",
   "execution_count": 2,
   "metadata": {},
   "outputs": [
    {
     "name": "stdout",
     "output_type": "stream",
     "text": [
      "ciao\n"
     ]
    }
   ],
   "source": [
    "a = \"ciao\"\n",
    "print(a)"
   ]
  },
  {
   "cell_type": "markdown",
   "metadata": {},
   "source": [
    "## Creare una funzione\n",
    "Per definire una nuova funzione si usa la seguente struttura:\n",
    "```python\n",
    "def nome(parametri):\n",
    "    ...\n",
    "    return valore\n",
    "```\n",
    "la parola def è una parola riservata (non si può usare come nome di variabili o funzioni) e serve a specificare la creazione di una nuova funzione. I parametri possono essere 0 e più, mentre l'espressione **return** serve nel caso in cui si volesse avere un valore restituito dalla funzione (cioè la maggior parte dei casi).\n",
    "\n",
    "Immaginiamo di voler risolvere il seguente problema:\n",
    "> dati due numeri calcolare la proporzione del primo rispetto al secondo in percentuale\n",
    "\n",
    "la soluzione più intuitiva sarebbe (con 5 e 42 come esempi):"
   ]
  },
  {
   "cell_type": "code",
   "execution_count": 1,
   "metadata": {},
   "outputs": [],
   "source": [
    "dividendo = 5\n",
    "divisore = 42\n",
    "proporzione = dividendo/divisore\n",
    "percentuale = proporzione * 100"
   ]
  },
  {
   "cell_type": "code",
   "execution_count": 2,
   "metadata": {},
   "outputs": [
    {
     "data": {
      "text/plain": [
       "11.904761904761903"
      ]
     },
     "execution_count": 2,
     "metadata": {},
     "output_type": "execute_result"
    }
   ],
   "source": [
    "percentuale"
   ]
  },
  {
   "cell_type": "markdown",
   "metadata": {},
   "source": [
    "un modo più veloce potrebbe essere fare tutto in un unico passaggio ed evitare la variabile **proporzione** con"
   ]
  },
  {
   "cell_type": "code",
   "execution_count": 3,
   "metadata": {},
   "outputs": [],
   "source": [
    "dividendo = 5\n",
    "divisore = 42\n",
    "percentuale = dividendo/divisore * 100"
   ]
  },
  {
   "cell_type": "markdown",
   "metadata": {},
   "source": [
    "abbiamo risparmato una riga, ma grazie ad una funzione possiamo rendere più portabile e astratto questo blocco di codice: "
   ]
  },
  {
   "cell_type": "code",
   "execution_count": 4,
   "metadata": {},
   "outputs": [],
   "source": [
    "def calcola_percentuale(dividendo, divisore):\n",
    "    return dividendo / divisore * 100"
   ]
  },
  {
   "cell_type": "code",
   "execution_count": 5,
   "metadata": {},
   "outputs": [
    {
     "data": {
      "text/plain": [
       "11.904761904761903"
      ]
     },
     "execution_count": 5,
     "metadata": {},
     "output_type": "execute_result"
    }
   ],
   "source": [
    "calcola_percentuale(5,42)"
   ]
  },
  {
   "cell_type": "markdown",
   "metadata": {},
   "source": [
    "A questo punto nulla ci vieta di passare qualsiasi coppia di valori alla funzione appena creata e di salvare il suo valore di **return** in una variabile!  "
   ]
  },
  {
   "cell_type": "code",
   "execution_count": 9,
   "metadata": {},
   "outputs": [],
   "source": [
    "a = calcola_percentuale(34, 35)"
   ]
  },
  {
   "cell_type": "code",
   "execution_count": 8,
   "metadata": {},
   "outputs": [
    {
     "data": {
      "text/plain": [
       "97.14285714285714"
      ]
     },
     "execution_count": 8,
     "metadata": {},
     "output_type": "execute_result"
    }
   ],
   "source": [
    "a"
   ]
  },
  {
   "cell_type": "markdown",
   "metadata": {},
   "source": [
    "I parametri di una funzione non devono per forza essere letterali, ma possono anche essere espressioni che restistituiscano un valore compatibile con i tipi usati come parametri, anche un'altra funzione!"
   ]
  },
  {
   "cell_type": "code",
   "execution_count": 13,
   "metadata": {},
   "outputs": [
    {
     "data": {
      "text/plain": [
       "61.38107416879796"
      ]
     },
     "execution_count": 13,
     "metadata": {},
     "output_type": "execute_result"
    }
   ],
   "source": [
    "calcola_percentuale(calcola_percentuale(12,23), 85)"
   ]
  },
  {
   "cell_type": "markdown",
   "metadata": {},
   "source": [
    "si possono eventualmente anche definire valori di default per i parametri, in modo da non renderne obbligatorio il passaggio al momento della chiamata della funzione. Quando un parametro ha un valore di default è possibile passarlo sia rispettando l'ordine stabilito alla creazione della funzione, sia nomenando direttamente il parametro (si chiama \"keyword argument\")."
   ]
  },
  {
   "cell_type": "code",
   "execution_count": 14,
   "metadata": {},
   "outputs": [],
   "source": [
    "def dividi(numeratore, denominatore=2):\n",
    "    return numeratore/denominatore"
   ]
  },
  {
   "cell_type": "code",
   "execution_count": 15,
   "metadata": {},
   "outputs": [
    {
     "data": {
      "text/plain": [
       "3.0"
      ]
     },
     "execution_count": 15,
     "metadata": {},
     "output_type": "execute_result"
    }
   ],
   "source": [
    "dividi(6)"
   ]
  },
  {
   "cell_type": "code",
   "execution_count": 16,
   "metadata": {},
   "outputs": [
    {
     "data": {
      "text/plain": [
       "8.0"
      ]
     },
     "execution_count": 16,
     "metadata": {},
     "output_type": "execute_result"
    }
   ],
   "source": [
    "dividi(32, 4)"
   ]
  },
  {
   "cell_type": "code",
   "execution_count": 18,
   "metadata": {},
   "outputs": [
    {
     "data": {
      "text/plain": [
       "5.333333333333333"
      ]
     },
     "execution_count": 18,
     "metadata": {},
     "output_type": "execute_result"
    }
   ],
   "source": [
    "dividi(32,denominatore=6)"
   ]
  },
  {
   "cell_type": "markdown",
   "metadata": {},
   "source": [
    "ovviamente una funzione priva di return non ritornerà nulla, e se dovessimo assegnare il suo risultato ad una variabile otterremmo una variabile vuota: "
   ]
  },
  {
   "cell_type": "code",
   "execution_count": 1,
   "metadata": {},
   "outputs": [],
   "source": [
    "def saluta():\n",
    "    print(\"ciao!\")"
   ]
  },
  {
   "cell_type": "code",
   "execution_count": 4,
   "metadata": {},
   "outputs": [
    {
     "name": "stdout",
     "output_type": "stream",
     "text": [
      "ciao!\n"
     ]
    }
   ],
   "source": [
    "a = saluta()"
   ]
  },
  {
   "cell_type": "code",
   "execution_count": 5,
   "metadata": {},
   "outputs": [],
   "source": [
    "a"
   ]
  },
  {
   "cell_type": "markdown",
   "metadata": {},
   "source": [
    "assegnando invece la funzione, e non la chiamata ad essa (quindi con le parentesi tonde contenenti gli eventuali parametri) non facciamo altro che assegnare quella variabile alla funzione, rendendo quindi possibile chiamarla anche tramite il nome della variabile:"
   ]
  },
  {
   "cell_type": "code",
   "execution_count": 6,
   "metadata": {},
   "outputs": [],
   "source": [
    "a = saluta"
   ]
  },
  {
   "cell_type": "code",
   "execution_count": 7,
   "metadata": {},
   "outputs": [
    {
     "data": {
      "text/plain": [
       "<function __main__.saluta()>"
      ]
     },
     "execution_count": 7,
     "metadata": {},
     "output_type": "execute_result"
    }
   ],
   "source": [
    "a"
   ]
  },
  {
   "cell_type": "code",
   "execution_count": 8,
   "metadata": {},
   "outputs": [
    {
     "name": "stdout",
     "output_type": "stream",
     "text": [
      "ciao!\n"
     ]
    }
   ],
   "source": [
    "a()"
   ]
  },
  {
   "cell_type": "markdown",
   "metadata": {},
   "source": [
    "# selezione e iterazione\n",
    "## operatori di comparazione\n",
    "A volte può succedere che il codice debba essere eseguito diversamente in base a una o più condizioni che possono avere solo valori di vero o falso, per esempio:"
   ]
  },
  {
   "cell_type": "code",
   "execution_count": 10,
   "metadata": {},
   "outputs": [
    {
     "data": {
      "text/plain": [
       "False"
      ]
     },
     "execution_count": 10,
     "metadata": {},
     "output_type": "execute_result"
    }
   ],
   "source": [
    "1 > 3"
   ]
  },
  {
   "cell_type": "markdown",
   "metadata": {},
   "source": [
    "questa espressione confronta due valori e restituisce **True** se il termine a sinistra è maggiore di quello a destra, altrimenti restituisce **False**. Si possono effettuare controlli con i seguenti simboli, in cui viene ritornato vero alle condizioni spiegate sulla destra delle espressioni:\n",
    "    \n",
    "| comparazione | ritorna vero se |\n",
    "|--------------|-----------------|\n",
    "|a > b         | a maggiore di b\n",
    "|a < b         | a minore di b\n",
    "|a >= b        | a maggiore o uguale a b\n",
    "|a != b        | a diverso da b\n",
    "|a <> b        | a diverso da b\n",
    "|a == b        | a e b sono lo stesso valore \n",
    "\n",
    "\n",
    "## operatori di selezione\n",
    "L'operatore di selezione per eccellenza è il costrutto \"se condizione allora x, altrimenti y\", cioè: **se condizione restituisce True allora esegui x, altrimenti esegui y**, dove x e y sono **blocchi di codice**.\n",
    "\n",
    "In un diagramma di flusso la selezione ha circa questo aspetto:\n",
    "![rappresentazione di un operatore di selezione](https://cnx.org/resources/c2dd1e3112a6aa8b082529f656a4cd52a1bdb7ad/graphics5.png \"if statement\")\n",
    "<div align=\"center\"> <em> selezione in un diagramma di flusso </em></div>\n",
    "\n",
    "Per specificare una selezione in python si fa così:\n",
    "\n",
    "```python\n",
    "condizione = x > y\n",
    "if condizione:\n",
    "    # blocco di codice \n",
    "    # se condizione vera\n",
    "else:\n",
    "    # blocco di codice\n",
    "    # se condizione falsa\n",
    "```\n",
    "secondo questa sintassi quindi un blocco di codice comincia con il simbolo : (come nelle funzioni!) e prevede che ciascuna riga del blocco sia **indentata** di una tabulazione rispetto all'esterno. Un esempio pratico"
   ]
  },
  {
   "cell_type": "code",
   "execution_count": 11,
   "metadata": {},
   "outputs": [
    {
     "name": "stdout",
     "output_type": "stream",
     "text": [
      "no\n"
     ]
    }
   ],
   "source": [
    "if 3 > 3 :\n",
    "    print(\"yes!\")\n",
    "else:\n",
    "    print(\"no\")"
   ]
  },
  {
   "cell_type": "markdown",
   "metadata": {},
   "source": [
    "qui la condizione è falsa, quindi python ha completamente ignorato il blocco di codice di **if:** per eseguire solo il blocco di codice else. \n",
    "\n",
    "Una espressione di comparazione (quella che si usa solitamente come condizione) viene valutata ad un tipo **bool**"
   ]
  },
  {
   "cell_type": "code",
   "execution_count": 7,
   "metadata": {},
   "outputs": [
    {
     "data": {
      "text/plain": [
       "bool"
      ]
     },
     "execution_count": 7,
     "metadata": {},
     "output_type": "execute_result"
    }
   ],
   "source": [
    "type(3 > 3)"
   ]
  },
  {
   "cell_type": "markdown",
   "metadata": {},
   "source": [
    "volendo controllare più condizioni **esclusive** si può usare la parola chiave **elif**:"
   ]
  },
  {
   "cell_type": "code",
   "execution_count": 13,
   "metadata": {},
   "outputs": [
    {
     "name": "stdout",
     "output_type": "stream",
     "text": [
      "1\n"
     ]
    }
   ],
   "source": [
    "# eseguire una sottrazione solo se il risultato è positivo e \n",
    "# scrivere un messaggio di auguri se è 0\n",
    "a = 3\n",
    "b = 2\n",
    "if a < b:\n",
    "    print(\"non faccio risultati negativi\")\n",
    "elif a == b:\n",
    "    print(\"auguri!\")\n",
    "else:\n",
    "    print(a-b)"
   ]
  },
  {
   "cell_type": "markdown",
   "metadata": {},
   "source": [
    "## operatori logici\n",
    "Per valutare più condizioni o combinazioni di esse vediamo tre operatori logici di base:\n",
    "\n",
    "|operatore | significato|\n",
    "|----------|------------|\n",
    "| a and b  | vero solo se a e b sono vere\n",
    "| a or b   | vero se almeno una tra a e b è vera\n",
    "| not a    | l'opposto del valore di a\n",
    "\n",
    "and e or sono operatori binari, che dipendono quindi da due fattori, not è unario e lavora su un unico fattore, di fatto negandolo. Seguono esempi:"
   ]
  },
  {
   "cell_type": "code",
   "execution_count": 24,
   "metadata": {},
   "outputs": [
    {
     "data": {
      "text/plain": [
       "False"
      ]
     },
     "execution_count": 24,
     "metadata": {},
     "output_type": "execute_result"
    }
   ],
   "source": [
    "False and False"
   ]
  },
  {
   "cell_type": "code",
   "execution_count": 25,
   "metadata": {},
   "outputs": [
    {
     "data": {
      "text/plain": [
       "False"
      ]
     },
     "execution_count": 25,
     "metadata": {},
     "output_type": "execute_result"
    }
   ],
   "source": [
    "True and False"
   ]
  },
  {
   "cell_type": "code",
   "execution_count": 26,
   "metadata": {},
   "outputs": [
    {
     "data": {
      "text/plain": [
       "True"
      ]
     },
     "execution_count": 26,
     "metadata": {},
     "output_type": "execute_result"
    }
   ],
   "source": [
    "True and True"
   ]
  },
  {
   "cell_type": "code",
   "execution_count": 27,
   "metadata": {},
   "outputs": [
    {
     "data": {
      "text/plain": [
       "False"
      ]
     },
     "execution_count": 27,
     "metadata": {},
     "output_type": "execute_result"
    }
   ],
   "source": [
    "False or False"
   ]
  },
  {
   "cell_type": "code",
   "execution_count": 28,
   "metadata": {},
   "outputs": [
    {
     "data": {
      "text/plain": [
       "True"
      ]
     },
     "execution_count": 28,
     "metadata": {},
     "output_type": "execute_result"
    }
   ],
   "source": [
    "True or False"
   ]
  },
  {
   "cell_type": "code",
   "execution_count": 29,
   "metadata": {},
   "outputs": [
    {
     "data": {
      "text/plain": [
       "True"
      ]
     },
     "execution_count": 29,
     "metadata": {},
     "output_type": "execute_result"
    }
   ],
   "source": [
    "True or True"
   ]
  },
  {
   "cell_type": "code",
   "execution_count": 14,
   "metadata": {},
   "outputs": [
    {
     "data": {
      "text/plain": [
       "False"
      ]
     },
     "execution_count": 14,
     "metadata": {},
     "output_type": "execute_result"
    }
   ],
   "source": [
    "not True"
   ]
  },
  {
   "cell_type": "code",
   "execution_count": 15,
   "metadata": {},
   "outputs": [
    {
     "data": {
      "text/plain": [
       "True"
      ]
     },
     "execution_count": 15,
     "metadata": {},
     "output_type": "execute_result"
    }
   ],
   "source": [
    "not False"
   ]
  },
  {
   "cell_type": "markdown",
   "metadata": {},
   "source": [
    "si possono scrivere espressioni più complesse concatenando espressioni semplici. "
   ]
  },
  {
   "cell_type": "code",
   "execution_count": 17,
   "metadata": {},
   "outputs": [
    {
     "data": {
      "text/plain": [
       "True"
      ]
     },
     "execution_count": 17,
     "metadata": {},
     "output_type": "execute_result"
    }
   ],
   "source": [
    "True and False or not False and True "
   ]
  },
  {
   "cell_type": "markdown",
   "metadata": {},
   "source": [
    "l'importante è ricordare che vengono valutate da python in questo ordine, a meno di presenza di parentesi tonde per forzare le priorità come nelle espressioni di matematica:\n",
    "\n",
    "1. si applicano i **not**\n",
    "2. si calcolano gli **and**\n",
    "3. si calcolano gli **or**\n",
    "\n",
    "**and** e **or** godono della proprietà commutativa e sono a tutti gli effetti una moltiplicazione booleana ed una addizione booleana rispettivamente. \n"
   ]
  }
 ],
 "metadata": {
  "kernelspec": {
   "display_name": "Python 3",
   "language": "python",
   "name": "python3"
  },
  "language_info": {
   "codemirror_mode": {
    "name": "ipython",
    "version": 3
   },
   "file_extension": ".py",
   "mimetype": "text/x-python",
   "name": "python",
   "nbconvert_exporter": "python",
   "pygments_lexer": "ipython3",
   "version": "3.6.7"
  }
 },
 "nbformat": 4,
 "nbformat_minor": 4
}
