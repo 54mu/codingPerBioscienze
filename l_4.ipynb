{
 "cells": [
  {
   "cell_type": "markdown",
   "metadata": {},
   "source": [
    "# Python a oggetti\n",
    "Python è un linguaggio orientato agli oggetti, vale a dire che è possibile costruire strutture particolari che rappresentano astrazioni di oggetti complessi reali. Grazie agli oggetti quindi è possibile rappresentare qualsiasi cosa tramite un \"tipo di dato\" complesso dedicato. \n",
    "\n",
    "## Classi\n",
    "Le classi sono generalizzazioni degli oggetti, cioè rappresentano un oggetto al livello più astratto possibile, per farlo si serve di due elementi fondamentali: **attributi** e **metodi**\n",
    "\n",
    "### Attributi\n",
    "Gli attributi di una classe sono sostanzialmente variabili, queste descrivono idealmente ogni singola caratteristica atomica dell'oggetto di cui stiamo creando la classe. Gli attributi possono essere di qualsiasi tipo, da tipi base ad altre classi di oggetti.\n",
    "\n",
    "### Metodi\n",
    "I metodi sono invece assimilabili alle funzioni, e sono di fatto funzioni le quali ricevono l'oggetto stesso come parametro implicito e possono agire su di esso modificandone gli attributi, usando gli attributi per eseguire operazioni o chiamare altri metodi. Ci sono alcuni metodi speciali che definiscono comportamenti di base delle classi che creiamo, ma per ora di questi vedremo solo il metodo `__init__()`\n",
    "\n",
    "### Esempio: la classe Sequenza\n",
    "Siccome qui si fa coding per bioscienze, cerchiamo di creare la classe Sequenza. Come buona norma è socialmente accettato definire le classi con la lettera iniziale maiuscola.\n",
    "\n",
    "Attributi:\n",
    "+ identificativo\n",
    "+ sequenza\n",
    "+ alfabeto (amminoacidi o nucleotidi?)\n",
    "\n",
    "Metodi:\n",
    "+ lunghezza\n",
    "+ reverse complement\n",
    "+ traduci (se nucleotidica)\n",
    "+ contenuto in gc (se nucleotidica)\n",
    "+ punto isoelettrico (se amminoacidica)\n",
    "+ ...\n",
    "\n",
    "e così via.\n",
    "\n",
    "In buona parte dei casi è bene fare in modo di definire solo gli attributi fundamentali, che vengono usati più spesso, in quanto attributi come **reverse complement** in questo esempio possono essere generati tramite un metodo a partire dalla sequenza e finirebbero per occupare memoria in più nel caso dovessimo caricare molte istanze di sequenza. "
   ]
  },
  {
   "cell_type": "markdown",
   "metadata": {},
   "source": [
    "oggetto sequenza:\n",
    "+ identificatore\n",
    "+ sequenza\n",
    "+ alfabeto\n",
    "+ lunghezza\n",
    "---\n",
    "- calcola_gc()\n",
    "- ottieni_lunghezza()\n",
    "- descrivi()\n"
   ]
  },
  {
   "cell_type": "code",
   "execution_count": 1,
   "metadata": {},
   "outputs": [],
   "source": [
    "class sequenza:\n",
    "    identificatore = \"bella_sequenza\"\n",
    "    sequenza = \"ATCGATCGCATGCAT\"\n",
    "    alfabeto = \"nucl\"\n",
    "    lunghezza = len(sequenza)"
   ]
  },
  {
   "cell_type": "code",
   "execution_count": 5,
   "metadata": {},
   "outputs": [],
   "source": [
    "a = sequenza()"
   ]
  },
  {
   "cell_type": "code",
   "execution_count": 8,
   "metadata": {},
   "outputs": [
    {
     "data": {
      "text/plain": [
       "15"
      ]
     },
     "execution_count": 8,
     "metadata": {},
     "output_type": "execute_result"
    }
   ],
   "source": [
    "a.lunghezza"
   ]
  },
  {
   "cell_type": "code",
   "execution_count": 40,
   "metadata": {},
   "outputs": [],
   "source": [
    "class sequenza:\n",
    "    def __init__(self, identificatore, sequenza, alfabeto=\"NT\"):\n",
    "        self.identificatore = identificatore\n",
    "        self.sequenza = sequenza\n",
    "        self.alfabeto = alfabeto\n",
    "        self.lunghezza = len(sequenza)\n",
    "\n",
    "    def descrivi(self):\n",
    "        print(\"id\", self.identificatore)\n",
    "        print(\"seq\", self.sequenza)\n",
    "        print(\"alph\", self.alfabeto)\n",
    "        print(\"len\", self.lunghezza)"
   ]
  },
  {
   "cell_type": "code",
   "execution_count": 41,
   "metadata": {},
   "outputs": [],
   "source": [
    "a = sequenza(\"seq_1\", \"CATCAGCATCGACTACGATCAGC\")\n",
    "b = sequenza(\"seq_2\", \"GCTGCATCAGCTACGACTAGCATCGAGTCAGCGGCAT\")"
   ]
  },
  {
   "cell_type": "code",
   "execution_count": 44,
   "metadata": {},
   "outputs": [],
   "source": [
    "b.formato = \"phylip\""
   ]
  },
  {
   "cell_type": "code",
   "execution_count": 46,
   "metadata": {},
   "outputs": [
    {
     "data": {
      "text/plain": [
       "'fasta'"
      ]
     },
     "execution_count": 46,
     "metadata": {},
     "output_type": "execute_result"
    }
   ],
   "source": [
    "a.formato"
   ]
  },
  {
   "cell_type": "code",
   "execution_count": 37,
   "metadata": {},
   "outputs": [
    {
     "name": "stdout",
     "output_type": "stream",
     "text": [
      "id seq_1\n",
      "seq CATCAGCATCGACTACGATCAGC\n",
      "alph NT\n",
      "len 23\n"
     ]
    }
   ],
   "source": [
    "a.descrivi()"
   ]
  },
  {
   "cell_type": "code",
   "execution_count": 38,
   "metadata": {},
   "outputs": [
    {
     "name": "stdout",
     "output_type": "stream",
     "text": [
      "id seq_2\n",
      "seq GCTGCATCAGCTACGACTAGCATCGAGTCAGCGGCAT\n",
      "alph NT\n",
      "len 37\n"
     ]
    }
   ],
   "source": [
    "b.descrivi()"
   ]
  },
  {
   "cell_type": "code",
   "execution_count": 25,
   "metadata": {},
   "outputs": [
    {
     "data": {
      "text/plain": [
       "False"
      ]
     },
     "execution_count": 25,
     "metadata": {},
     "output_type": "execute_result"
    }
   ],
   "source": [
    "a == b"
   ]
  },
  {
   "cell_type": "code",
   "execution_count": 47,
   "metadata": {},
   "outputs": [],
   "source": [
    "class sequenza:\n",
    "    def __init__(self, identificatore, sequenza, alfabeto=\"NT\"):\n",
    "        self.identificatore = identificatore\n",
    "        self.sequenza = sequenza\n",
    "        self.alfabeto = alfabeto\n",
    "        self.lunghezza = len(sequenza)\n",
    "\n",
    "    def descrivi(self):\n",
    "        print(\"id\", self.identificatore)\n",
    "        print(\"seq\", self.sequenza)\n",
    "        print(\"alph\", self.alfabeto)\n",
    "        print(\"len\", self.lunghezza)\n",
    "    \n",
    "    def get_gc(self):\n",
    "        return (self.sequenza.count(\"C\") + self.sequenza.count(\"G\"))/self.lunghezza"
   ]
  },
  {
   "cell_type": "code",
   "execution_count": 50,
   "metadata": {},
   "outputs": [],
   "source": [
    "c = sequenza(\"seq_3\", \"GTCAGTCAGTCAGTCAGTGTCAAAAAAAAAAAACGTACAGTCAGTCAGTGTCA\")"
   ]
  },
  {
   "cell_type": "code",
   "execution_count": 60,
   "metadata": {},
   "outputs": [
    {
     "data": {
      "text/plain": [
       "39.62264150943396"
      ]
     },
     "execution_count": 60,
     "metadata": {},
     "output_type": "execute_result"
    }
   ],
   "source": [
    "c.get_gc() * 100"
   ]
  },
  {
   "cell_type": "code",
   "execution_count": null,
   "metadata": {},
   "outputs": [],
   "source": []
  }
 ],
 "metadata": {
  "kernelspec": {
   "display_name": "Python 3",
   "language": "python",
   "name": "python3"
  },
  "language_info": {
   "codemirror_mode": {
    "name": "ipython",
    "version": 3
   },
   "file_extension": ".py",
   "mimetype": "text/x-python",
   "name": "python",
   "nbconvert_exporter": "python",
   "pygments_lexer": "ipython3",
   "version": "3.8.3"
  }
 },
 "nbformat": 4,
 "nbformat_minor": 4
}
