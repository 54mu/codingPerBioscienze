{
 "cells": [
  {
   "cell_type": "markdown",
   "metadata": {},
   "source": [
    "# Manipolazione di file\n",
    "Manipolare file è fondamentale, fortunatamente è facilissimo.\n",
    "\n",
    "Python gestisce i file come \"handle\", che sono rappresentazioni del file stesso sotto forma di oggetti. Un handle ad un file si definisce tramite la funzione `open(filename)` che restituisce un oggetto handle e si scrive con questa forma:\n",
    "\n",
    "```python\n",
    "variabile_handle = open(nomefile, modalità_apertura)\n",
    "```\n",
    "dove **nomefile** è il nome del file (se si trova nella stessa directory in cui si esegue il codice) oppure il percorso per il file, mentre per la modalità di apertura abbiamo diverse opzioni, ma quelle importanti sono 2:\n",
    "+ aprire il file in lettura (opzione di default) specificato con il letterale `\"r\"`\n",
    "+ aprire il file in scrittura, specificato con il letterale `\"w\"`\n",
    "\n",
    "Se un file non esiste aprirlo in scrittura lo creerà, aprirlo in letturà darà un errore. Se il file esiste aprirlo in lettura permetterà di leggerne il contenuto,  aprirlo in scrittura lo sovrascriverà. \n",
    "\n",
    "**ATTENZIONE**: dopo che si apre un file e ci si è fatto quello che si deve fare è buona norma chiuderlo. \n",
    "\n",
    "> Creare un file e scriverci dentro una stringa"
   ]
  },
  {
   "cell_type": "code",
   "execution_count": 2,
   "metadata": {},
   "outputs": [],
   "source": [
    "handle = open(\"il_mio_bel_file\", \"w\")\n",
    "handle.write(\"Ciao, sono una stringa nel file\")\n",
    "handle.close()"
   ]
  },
  {
   "cell_type": "markdown",
   "metadata": {},
   "source": [
    "questo ha creato il file, ci ha scritto la stringa e lo ha chiuso. Proviamo a leggerlo:"
   ]
  },
  {
   "cell_type": "code",
   "execution_count": 3,
   "metadata": {},
   "outputs": [
    {
     "name": "stdout",
     "output_type": "stream",
     "text": [
      "Ciao, sono una stringa nel file\n"
     ]
    }
   ],
   "source": [
    "handle = open(\"il_mio_bel_file\", \"r\")\n",
    "print(handle.read())\n",
    "handle.close()"
   ]
  },
  {
   "cell_type": "markdown",
   "metadata": {},
   "source": [
    "Abbastanza semplice, ma Python offre un modo più pulito per interagire con i file e rendere più agevole la loro apertura e chiusura:\n",
    "\n",
    "## l'epressione with\n",
    "Grazie all'espressione `with` potremo creare un dominio di codice che gestisca ciò che deve avvenire mentre il file è aperto e che provvederà a chiuderlo una volta che il blocco è terminato. Dimostro subito la scrittura e lettura della stringa nel file:"
   ]
  },
  {
   "cell_type": "code",
   "execution_count": 4,
   "metadata": {},
   "outputs": [],
   "source": [
    "with open(\"il_mio_bel_file\", \"w\") as handle:\n",
    "    handle.write(\"Ciao, sono una stringa nel file\")"
   ]
  },
  {
   "cell_type": "code",
   "execution_count": 5,
   "metadata": {},
   "outputs": [
    {
     "name": "stdout",
     "output_type": "stream",
     "text": [
      "Ciao, sono una stringa nel file\n"
     ]
    }
   ],
   "source": [
    "with open(\"il_mio_bel_file\", \"r\") as handle:\n",
    "    print(handle.read())"
   ]
  },
  {
   "cell_type": "markdown",
   "metadata": {},
   "source": [
    "## metodi dell'oggetto file handle\n",
    "Abbiamo già visto due metodi abbastanza intuitivi: `read()` e `write()`, il primo restituisce il contenuto del file sotto forma di stringa, il secondo scrive nel file la stringa che gli viene passata. Soprattutto in lettura ci sono altri metodi che possono essere utili.\n"
   ]
  }
 ],
 "metadata": {
  "kernelspec": {
   "display_name": "Python 3",
   "language": "python",
   "name": "python3"
  },
  "language_info": {
   "codemirror_mode": {
    "name": "ipython",
    "version": 3
   },
   "file_extension": ".py",
   "mimetype": "text/x-python",
   "name": "python",
   "nbconvert_exporter": "python",
   "pygments_lexer": "ipython3",
   "version": "3.6.7"
  }
 },
 "nbformat": 4,
 "nbformat_minor": 2
}
