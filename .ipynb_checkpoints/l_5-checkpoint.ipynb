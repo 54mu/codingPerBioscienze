{
 "cells": [
  {
   "cell_type": "markdown",
   "metadata": {},
   "source": [
    "# Manipolazione di file\n",
    "Manipolare file è fondamentale, fortunatamente è facilissimo.\n",
    "\n",
    "Python gestisce i file come \"handle\", che sono rappresentazioni del file stesso sotto forma di oggetti. Un handle ad un file si definisce tramite la funzione `open(filename)` che restituisce un oggetto handle e si scrive con questa forma:\n",
    "\n",
    "```python\n",
    "variabile_handle = open(nomefile, modalità_apertura)\n",
    "```\n",
    "dove **nomefile** è il nome del file (se si trova nella stessa directory in cui si esegue il codice) oppure il percorso per il file, mentre per la modalità di apertura abbiamo diverse opzioni, ma quelle importanti sono 2:\n",
    "+ aprire il file in lettura (opzione di default) specificato con il letterale `\"r\"`\n",
    "+ aprire il file in scrittura, specificato con il letterale `\"w\"`\n",
    "\n",
    "Se un file non esiste aprirlo in scrittura lo creerà, aprirlo in letturà darà un errore. Se il file esiste aprirlo in lettura permetterà di leggerne il contenuto,  aprirlo in scrittura lo sovrascriverà. \n",
    "\n",
    "**ATTENZIONE**: dopo che si apre un file e ci si è fatto quello che si deve fare è buona norma chiuderlo. \n",
    "\n",
    "> Creare un file e scriverci dentro una stringa"
   ]
  },
  {
   "cell_type": "code",
   "execution_count": 6,
   "metadata": {},
   "outputs": [],
   "source": [
    "handle = open(\"il_mio_bel_file\", \"w\")\n",
    "handle.write(\"Ciao, sono una stringa nel file\")\n",
    "handle.close()"
   ]
  },
  {
   "cell_type": "markdown",
   "metadata": {},
   "source": [
    "questo ha creato il file, ci ha scritto la stringa e lo ha chiuso. Proviamo a leggerlo:"
   ]
  },
  {
   "cell_type": "code",
   "execution_count": 10,
   "metadata": {},
   "outputs": [],
   "source": [
    "handle = open(\"il_mio_bel_file\", \"r\")\n",
    "type(handle.read())\n",
    "handle.close()"
   ]
  },
  {
   "cell_type": "markdown",
   "metadata": {},
   "source": [
    "Abbastanza semplice, ma Python offre un modo più pulito per interagire con i file e rendere più agevole la loro apertura e chiusura:\n",
    "\n",
    "## l'epressione with\n",
    "Grazie all'espressione `with` potremo creare un dominio di codice che gestisca ciò che deve avvenire mentre il file è aperto e che provvederà a chiuderlo una volta che il blocco è terminato. Dimostro subito la scrittura e lettura della stringa nel file:"
   ]
  },
  {
   "cell_type": "code",
   "execution_count": 11,
   "metadata": {},
   "outputs": [],
   "source": [
    "with open(\"il_mio_bel_file\", \"w\") as handle:\n",
    "    handle.write(\"Ciao, sono una stringa nel file\")"
   ]
  },
  {
   "cell_type": "code",
   "execution_count": 16,
   "metadata": {},
   "outputs": [
    {
     "name": "stdout",
     "output_type": "stream",
     "text": [
      "Ciao, sono una stringa nel file\n"
     ]
    }
   ],
   "source": [
    "with open(\"il_mio_bel_file\", \"r\") as handle:\n",
    "    print(handle.read())"
   ]
  },
  {
   "cell_type": "markdown",
   "metadata": {},
   "source": [
    "## metodi dell'oggetto file handle\n",
    "Abbiamo già visto due metodi abbastanza intuitivi: `read()` e `write()`, il primo restituisce il contenuto del file sotto forma di stringa, il secondo scrive nel file la stringa che gli viene passata. Soprattutto in lettura ci sono altri metodi che possono essere utili.\n",
    "\n",
    "### metodo readlines()\n",
    "Questo metodo della classe file handle restituisce una lista contenente come elementi ciascuna linea del file. Attenzione che comunque ogni linea manterrà il carattere `\\n` alla fine. Può essere ripulita tramite il metodo `rstrip()` di string che consente di eliminare i caratteri vuoti alla fine della stringa. Nell'esempio si usa una list comprehension per avere velocemente la lista di righe del file ripulita\n"
   ]
  },
  {
   "cell_type": "code",
   "execution_count": 46,
   "metadata": {},
   "outputs": [],
   "source": [
    "with open(\"lista\", \"r\") as lista:\n",
    "    elementi = [x.rstrip() for x in lista.readlines()]"
   ]
  },
  {
   "cell_type": "markdown",
   "metadata": {},
   "source": [
    "Siccome questa funzione è molto utile decido di scrivere una funzione che dato un file di testo contenente una lista mi restituisce la lista python degli elementi"
   ]
  },
  {
   "cell_type": "code",
   "execution_count": 1,
   "metadata": {},
   "outputs": [],
   "source": [
    "def read_list(filename):\n",
    "    with open(filename, \"r\") as lista:\n",
    "        return [x.rstrip() for x in lista.readlines()]"
   ]
  },
  {
   "cell_type": "code",
   "execution_count": 2,
   "metadata": {},
   "outputs": [
    {
     "data": {
      "text/plain": [
       "['tap', 'tip', 'nonna papera', 'ciccio', 'paperino', 'pluto', 'pippo']"
      ]
     },
     "execution_count": 2,
     "metadata": {},
     "output_type": "execute_result"
    }
   ],
   "source": [
    "read_list(\"lista2\")[::-1]"
   ]
  },
  {
   "cell_type": "markdown",
   "metadata": {},
   "source": [
    "## salvare le funzioni in libreire esterne\n",
    "Siccome siamo pigri e non vogliamo riscrivere le funzioni ogni volta possiamo salvarle in file di testo con estensione `.py` e salvarle nel percorso predefinito di python, ottenibile con:\n",
    "```python\n",
    "import sys\n",
    "print(sys.path)\n",
    "```\n",
    "Volendo possiamo creare una cartella per le nostre librerie ed aggiungerla al path predefinito di python con\n",
    "```python\n",
    "import sys\n",
    "sys.path.append('/home/user/python-libs')\n",
    "```\n",
    "Ma questo vale solo in runtime, quindi bisogna eseguirlo ogni volta che si avvia una nuova sessione di python.\n",
    "\n",
    "Ad ogni modo, creo qui il file `samus_library.py` con il seguente contenuto:\n",
    "```python\n",
    "#samus_library.py\n",
    "def read_list(filename):\n",
    "    with open(filename, \"r\") as lista:\n",
    "        return [x.rstrip() for x in lista.readlines()]\n",
    "    \n",
    "def read_lst_backwards(filename):\n",
    "\twith open(filename, \"r\") as lista:\n",
    "\t\treturn [x.rstrip() for x in lista.readlines()][::-1]\n",
    "```\n",
    "e poi posso fare:"
   ]
  },
  {
   "cell_type": "code",
   "execution_count": 3,
   "metadata": {},
   "outputs": [],
   "source": [
    "import samus_library as sl"
   ]
  },
  {
   "cell_type": "code",
   "execution_count": 4,
   "metadata": {},
   "outputs": [
    {
     "data": {
      "text/plain": [
       "['pippo', 'pluto', 'paperino', 'ciccio']"
      ]
     },
     "execution_count": 4,
     "metadata": {},
     "output_type": "execute_result"
    }
   ],
   "source": [
    "sl.read_list(\"lista\")"
   ]
  },
  {
   "cell_type": "code",
   "execution_count": 5,
   "metadata": {},
   "outputs": [
    {
     "data": {
      "text/plain": [
       "['tap', 'tip', 'nonna papera', 'ciccio', 'paperino', 'pluto', 'pippo']"
      ]
     },
     "execution_count": 5,
     "metadata": {},
     "output_type": "execute_result"
    }
   ],
   "source": [
    "sl.read_lst_backwards(\"lista2\")"
   ]
  },
  {
   "cell_type": "markdown",
   "metadata": {},
   "source": [
    "vedere i file lista e lista2 per verificare il contenuto"
   ]
  }
 ],
 "metadata": {
  "kernelspec": {
   "display_name": "Python 3",
   "language": "python",
   "name": "python3"
  },
  "language_info": {
   "codemirror_mode": {
    "name": "ipython",
    "version": 3
   },
   "file_extension": ".py",
   "mimetype": "text/x-python",
   "name": "python",
   "nbconvert_exporter": "python",
   "pygments_lexer": "ipython3",
   "version": "3.6.7"
  }
 },
 "nbformat": 4,
 "nbformat_minor": 2
}
