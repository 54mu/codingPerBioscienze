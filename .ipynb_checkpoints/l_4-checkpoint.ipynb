{
 "cells": [
  {
   "cell_type": "markdown",
   "metadata": {},
   "source": [
    "# Python a oggetti\n",
    "Python è un linguaggio orientato agli oggetti, vale a dire che è possibile costruire strutture particolari che rappresentano astrazioni di oggetti complessi reali. Grazie agli oggetti quindi è possibile rappresentare qualsiasi cosa tramite un \"tipo di dato\" complesso dedicato. \n",
    "\n",
    "## Classi\n",
    "Le classi sono generalizzazioni degli oggetti, cioè rappresentano un oggetto al livello più astratto possibile, per farlo si serve di due elementi fondamentali: **attributi** e **metodi**\n",
    "\n",
    "### Attributi\n",
    "Gli attributi di una classe sono sostanzialmente variabili, queste descrivono idealmente ogni singola caratteristica atomica dell'oggetto di cui stiamo creando la classe. Gli attributi possono essere di qualsiasi tipo, da tipi base ad altre classi di oggetti.\n",
    "\n",
    "### Metodi\n",
    "I metodi sono invece assimilabili alle funzioni, e sono di fatto funzioni le quali ricevono l'oggetto stesso come parametro implicito e possono agire su di esso modificandone gli attributi, usando gli attributi per eseguire operazioni o chiamare altri metodi. Ci sono alcuni metodi speciali che definiscono comportamenti di base delle classi che creiamo, ma per ora di questi vedremo solo il metodo `__init__()`\n",
    "\n",
    "### Esempio: la classe Sequenza\n",
    "Siccome qui si fa coding per bioscienze, cerchiamo di creare la classe Sequenza. Come buona norma è socialmente accettato definire le classi con la lettera iniziale maiuscola.\n",
    "\n",
    "Attributi:\n",
    "+ identificativo\n",
    "+ sequenza\n",
    "+ alfabeto (amminoacidi o nucleotidi?)\n",
    "\n",
    "Metodi:\n",
    "+ lunghezza\n",
    "+ reverse complement\n",
    "+ traduci (se nucleotidica)\n",
    "+ contenuto in gc (se nucleotidica)\n",
    "+ punto isoelettrico (se amminoacidica)\n",
    "+ ...\n",
    "\n",
    "e così via.\n",
    "\n",
    "In buona parte dei casi è bene fare in modo di definire solo gli attributi fundamentali, che vengono usati più spesso, in quanto attributi come **reverse complement** in questo esempio possono essere generati tramite un metodo a partire dalla sequenza e finirebbero per occupare memoria in più nel caso dovessimo caricare molte istanze di sequenza. "
   ]
  },
  {
   "cell_type": "code",
   "execution_count": 5,
   "metadata": {},
   "outputs": [],
   "source": [
    "class sequenza:\n",
    "    def __init__(self, identificatore, sequenza, alfabeto=\"NT\"):\n",
    "        self.identificatore = identificatore\n",
    "        self.sequenza = sequenza\n",
    "        self.alfabeto = alfabeto\n",
    "    \n",
    "    def lunghezza(self):\n",
    "        return len(self.sequenza)\n",
    "    \n",
    "    def gc_content(self):\n",
    "        return (self.sequenza.count(\"C\") + self.sequenza.count(\"G\"))/self.lunghezza()\n",
    "\n",
    "    def reverse_complement(self):\n",
    "        complement = {\"A\" : \"T\", \"T\" : \"A\", \"G\" : \"C\", \"C\" : \"G\"}\n",
    "        if self.alfabeto != \"NT\":\n",
    "            print(\"warning: cannot perform reverese complement on non-nucleotide sequece!\")\n",
    "            return None # non restituisce nulla se la sequenza ha l'alfabeto sbagliato\n",
    "        else:\n",
    "            return \"\".join([complement[x] for x in self.sequenza[::-1]]) # qui c'è una list comprehension, poi vediamo di che si tratta.\n",
    "        \n",
    "    def translate(self):\n",
    "        return None # esercizio\n",
    "    \n",
    "    def isoelectric_point(self):\n",
    "        return None # esercizio"
   ]
  },
  {
   "cell_type": "code",
   "execution_count": 6,
   "metadata": {},
   "outputs": [],
   "source": [
    "a = sequenza(\"seq_1\", \"CATCAGCATCGACTACGATCAGC\")\n",
    "b = sequenza(\"seq_2\", \"GCTGCATCAGCTACGACTAGCATCGAGTCAGCGGCAT\")"
   ]
  },
  {
   "cell_type": "code",
   "execution_count": 7,
   "metadata": {},
   "outputs": [
    {
     "data": {
      "text/plain": [
       "'GCTGATCGTAGTCGATGCTGATG'"
      ]
     },
     "execution_count": 7,
     "metadata": {},
     "output_type": "execute_result"
    }
   ],
   "source": [
    "a.reverse_complement()"
   ]
  },
  {
   "cell_type": "code",
   "execution_count": 46,
   "metadata": {},
   "outputs": [
    {
     "data": {
      "text/plain": [
       "'fasta'"
      ]
     },
     "execution_count": 46,
     "metadata": {},
     "output_type": "execute_result"
    }
   ],
   "source": [
    "a.formato"
   ]
  },
  {
   "cell_type": "markdown",
   "metadata": {},
   "source": [
    "Abbiamo visto una classica costruzione di una classe, che in un certo senso somiglia molto ad una funzione. Ma cosa sono questi termini **self** sparsi in giro? La parola riservata **self** rappresenta l'istanza stessa dell'oggetto, ed è quindi necessaria per riferirsi ad attributi e metodi all'interno della classe stessa (se non la usassimo si andrebbe fuori scope/dominio). Il termine self è il primo parametro **implicito** di tutti i metodi appartenenti ad una classe, costruttore compreso. \n",
    "## metodo \\_\\_init\\_\\_() e altri metodi magici\n",
    "questo è un metodo speciale riservato che definisce il comportamento di ciascun oggetto della classe nel momento in cui questo viene creato. In questo caso lo si usa per inizializzare gli attributi di base. È sempre consigliabile usare questo metodo quando si scrive una classe dato che rende chiaro il processo di inizializzazione anche tramite valori di default. I metodi il cui nome è circondato da `__` sono chiamati \"magic methods\" e nel caso delle classi servono ad aggiungere funzionalità molto utili, `__init__()` infatti definisce quello che in altri linguaggi è il \"costruttore\". Altri metodi magici permettono di definire il comportamento di operazioni di base qundo eseguite sui nostri oggetti, come comparazioni od uperazioni matematiche. Ad esempio se proviamo a confrontare due oggetti sequenza con identificativo e sequenza uguali"
   ]
  },
  {
   "cell_type": "code",
   "execution_count": 8,
   "metadata": {},
   "outputs": [
    {
     "data": {
      "text/plain": [
       "False"
      ]
     },
     "execution_count": 8,
     "metadata": {},
     "output_type": "execute_result"
    }
   ],
   "source": [
    "a = sequenza(\"seq_1\", \"ATGCATGACTGAC\")\n",
    "b = sequenza(\"seq_1\", \"ATGCATGACTGAC\")\n",
    "\n",
    "a == b"
   ]
  },
  {
   "cell_type": "markdown",
   "metadata": {},
   "source": [
    "La comparazione ritorna `False` dato che si confrontano due istanze diverse di oggetti della stessa classe. Eventualmente può esserci utile implementare il magic method `__eq__()` per gestire questa comparazione tra sequenze:"
   ]
  },
  {
   "cell_type": "code",
   "execution_count": 14,
   "metadata": {},
   "outputs": [],
   "source": [
    "class sequenza:\n",
    "    def __init__(self, identificatore, sequenza, alfabeto=\"NT\"):\n",
    "        self.identificatore = identificatore\n",
    "        self.sequenza = sequenza\n",
    "        self.alfabeto = alfabeto\n",
    "    \n",
    "    def lunghezza(self):\n",
    "        return len(self.sequenza)\n",
    "    \n",
    "    def gc_content(self):\n",
    "        return (self.sequenza.count(\"C\") + self.sequenza.count(\"G\"))/self.lunghezza()\n",
    "\n",
    "    def reverse_complement(self):\n",
    "        complement = {\"A\" : \"T\", \"T\" : \"A\", \"G\" : \"C\", \"C\" : \"G\"}\n",
    "        if self.alfabeto != \"NT\":\n",
    "            print(\"warning: cannot perform reverese complement on non-nucleotide sequece!\")\n",
    "            return None # non restituisce nulla se la sequenza ha l'alfabeto sbagliato\n",
    "        else:\n",
    "            return \"\".join([complement[x] for x in self.sequenza[::-1]]) # qui c'è una list comprehension, poi vediamo di che si tratta.\n",
    "        \n",
    "    def translate(self):\n",
    "        return None # esercizio\n",
    "    \n",
    "    def isoelectric_point(self):\n",
    "        return None # esercizio\n",
    "    \n",
    "    def __eq__(self, other):\n",
    "        if (self.identificatore == other.identificatore and self.sequenza == other.sequenza):\n",
    "            return True\n",
    "        else:\n",
    "            return False"
   ]
  },
  {
   "cell_type": "code",
   "execution_count": 15,
   "metadata": {},
   "outputs": [
    {
     "data": {
      "text/plain": [
       "True"
      ]
     },
     "execution_count": 15,
     "metadata": {},
     "output_type": "execute_result"
    }
   ],
   "source": [
    "a = sequenza(\"seq_1\", \"ATGCATGACTGAC\")\n",
    "b = sequenza(\"seq_1\", \"ATGCATGACTGAC\")\n",
    "\n",
    "a == b"
   ]
  },
  {
   "cell_type": "markdown",
   "metadata": {},
   "source": [
    "Ecco che ora il comportamento della comparazione è quello che ci aspettavamo!"
   ]
  },
  {
   "cell_type": "code",
   "execution_count": null,
   "metadata": {},
   "outputs": [],
   "source": []
  }
 ],
 "metadata": {
  "kernelspec": {
   "display_name": "Python 3",
   "language": "python",
   "name": "python3"
  },
  "language_info": {
   "codemirror_mode": {
    "name": "ipython",
    "version": 3
   },
   "file_extension": ".py",
   "mimetype": "text/x-python",
   "name": "python",
   "nbconvert_exporter": "python",
   "pygments_lexer": "ipython3",
   "version": "3.6.7"
  }
 },
 "nbformat": 4,
 "nbformat_minor": 4
}
