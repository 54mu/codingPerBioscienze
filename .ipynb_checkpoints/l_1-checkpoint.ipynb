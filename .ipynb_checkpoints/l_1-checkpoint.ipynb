{
 "cells": [
  {
   "cell_type": "markdown",
   "metadata": {},
   "source": [
    "# Introduzione\n",
    "Python è un linguaggio interpretato, cioè il codice non viene tradotto in linguaggio macchina per creare un eseguibile, ma piuttosto intepretato quasi riga per riga in maniera sequenziale. Grazie a Ipyton e jupyter possiamo avere delle \"celle\" in cui eseguire blocchi di codice separati in un ambiente globale, e vedere eventuali risultati passo passo. "
   ]
  },
  {
   "cell_type": "markdown",
   "metadata": {},
   "source": [
    "# tipi di dato e variabili\n",
    "\n",
    "## tipi base\n",
    "per tipo intendiamo letteralmente il tipo di valore che vogliamo trattare. Per esempio un tipo **intero** può contenere solo numeri interi, un tipo **float** solo numeri a virgola mobile e così via.\n",
    "\n",
    "Vediamo un primo esempio nella prossima cella:"
   ]
  },
  {
   "cell_type": "code",
   "execution_count": 1,
   "metadata": {},
   "outputs": [
    {
     "data": {
      "text/plain": [
       "42"
      ]
     },
     "execution_count": 1,
     "metadata": {},
     "output_type": "execute_result"
    }
   ],
   "source": [
    "42"
   ]
  },
  {
   "cell_type": "markdown",
   "metadata": {},
   "source": [
    "eseguiendo il solo **42** python ha valutato l'espressione nella riga e restituito istantaneamente il suo valore, cioè 42. Chiamiamo i valori espliciti come questo **letterali**."
   ]
  },
  {
   "cell_type": "code",
   "execution_count": 2,
   "metadata": {},
   "outputs": [
    {
     "data": {
      "text/plain": [
       "int"
      ]
     },
     "execution_count": 2,
     "metadata": {},
     "output_type": "execute_result"
    }
   ],
   "source": [
    "type(42)"
   ]
  },
  {
   "cell_type": "markdown",
   "metadata": {},
   "source": [
    "la funzione type ci permette di vedere il tipo restituito da un'espressione. In questo caso il letterale 42 risulta essere di tipo intero. Questo perchè python cerca di associare un letterale al tipo più rappresentativo possibile in automatico. Vediamo un esempio con un numero a vigola mobile, cioè di tipo **float**. "
   ]
  },
  {
   "cell_type": "code",
   "execution_count": 3,
   "metadata": {},
   "outputs": [
    {
     "data": {
      "text/plain": [
       "float"
      ]
     },
     "execution_count": 3,
     "metadata": {},
     "output_type": "execute_result"
    }
   ],
   "source": [
    "type(42.2)"
   ]
  },
  {
   "cell_type": "markdown",
   "metadata": {},
   "source": [
    "Un altro tipo base molto utile è la **stringa**, di tipo **str**"
   ]
  },
  {
   "cell_type": "code",
   "execution_count": 4,
   "metadata": {},
   "outputs": [
    {
     "data": {
      "text/plain": [
       "str"
      ]
     },
     "execution_count": 4,
     "metadata": {},
     "output_type": "execute_result"
    }
   ],
   "source": [
    "type(\"gatto\")"
   ]
  },
  {
   "cell_type": "markdown",
   "metadata": {},
   "source": [
    "Il letterale stringa si esplicita includendo il valore tra caratteri **\\\"** oppure **\\'**"
   ]
  },
  {
   "cell_type": "code",
   "execution_count": 6,
   "metadata": {},
   "outputs": [
    {
     "data": {
      "text/plain": [
       "str"
      ]
     },
     "execution_count": 6,
     "metadata": {},
     "output_type": "execute_result"
    }
   ],
   "source": [
    "type('gatto')"
   ]
  },
  {
   "cell_type": "markdown",
   "metadata": {},
   "source": [
    "Un ultimo tipo base molto importante e utile è il tipo **bool**, che può assumere solo valori **True** o **False**, occupando di fatto un singolo bit in memoria. Occhio alle maiuscole! di fatti True e False sono un esempio di parole riservate, cioè hanno il solo scopo e uso di rappresentare un valore di verità e non possono essere usate come nome di variabili."
   ]
  },
  {
   "cell_type": "code",
   "execution_count": 8,
   "metadata": {},
   "outputs": [
    {
     "data": {
      "text/plain": [
       "bool"
      ]
     },
     "execution_count": 8,
     "metadata": {},
     "output_type": "execute_result"
    }
   ],
   "source": [
    "type(True)"
   ]
  },
  {
   "cell_type": "code",
   "execution_count": 9,
   "metadata": {},
   "outputs": [
    {
     "data": {
      "text/plain": [
       "bool"
      ]
     },
     "execution_count": 9,
     "metadata": {},
     "output_type": "execute_result"
    }
   ],
   "source": [
    "type(False)"
   ]
  },
  {
   "cell_type": "markdown",
   "metadata": {},
   "source": [
    "## Tipi complessi\n",
    "Oltre ai tipi base, visti prima (non sono tutti ma sono i più utili) esistono tipi complessi (o composti) che possono avere funzionalità diverse. \n",
    "### Liste\n",
    "Iniziamo con le **liste** di tipo **list**"
   ]
  },
  {
   "cell_type": "code",
   "execution_count": 10,
   "metadata": {},
   "outputs": [
    {
     "data": {
      "text/plain": [
       "[1, 2, 5, 2.3, 'gatto', 'cipolla', True]"
      ]
     },
     "execution_count": 10,
     "metadata": {},
     "output_type": "execute_result"
    }
   ],
   "source": [
    "[1, 2, 5, 2.3, \"gatto\", \"cipolla\", True]"
   ]
  },
  {
   "cell_type": "code",
   "execution_count": 11,
   "metadata": {},
   "outputs": [
    {
     "data": {
      "text/plain": [
       "list"
      ]
     },
     "execution_count": 11,
     "metadata": {},
     "output_type": "execute_result"
    }
   ],
   "source": [
    "type([1, 2, 5, 2.3, \"gatto\", \"cipolla\", True])"
   ]
  },
  {
   "cell_type": "markdown",
   "metadata": {},
   "source": [
    "delimitando tra **[  ]** una lista di letterali separati da virgole abbiamo creato un letterale di tipo lista, che è un **iterabile** (vedremo più avanti) che ha le caratteristiche di essere **ordinato** e **mutabile**:\n",
    "\n",
    "+ **ordinato**: significa che gli elementi sono accessibili tramite un indice\n",
    "+ **mutabile**: significa che è possibile modificare il valore dell'elemento una volta creato\n",
    "\n",
    "grazie al suo essere ordinata, una lista può essere letta o scritta nei suoi specifici elementi grazie alla posizione, indicata ancora una volta con parentesi quadre (iniziando a contare da 0 per il primo elemento e poi in ordine):"
   ]
  },
  {
   "cell_type": "code",
   "execution_count": 1,
   "metadata": {},
   "outputs": [
    {
     "data": {
      "text/plain": [
       "'gatto'"
      ]
     },
     "execution_count": 1,
     "metadata": {},
     "output_type": "execute_result"
    }
   ],
   "source": [
    "[1, 2, 5, 2.3, \"gatto\", \"cipolla\", True][4]"
   ]
  },
  {
   "cell_type": "markdown",
   "metadata": {},
   "source": [
    "La cella sopra restituisce l'elemeto alla posizione 4 (quindi il quinto) della lista. Possiamo anche accedere a più elementi della lista utilizzando quello che si chiama uno **slice**, che consiste sostanzialmente in un intervallo, seguendo questa sintassi:\n",
    "```python\n",
    "[inizio:fine:passo]\n",
    "```\n",
    "dove inizio è l'indice del primo elemento dello slice, fine è **l'indice dell'elemento successivo all'ultimo** della slice e il passo è l'intervallo a cui vogliamo prelevare i valori all'interno della slice. Se non si specifica l'inizio python prenderà in automatico l'elemento 0, il default per la fine è la lunghezza della lista e infine per il passo il default è 1"
   ]
  },
  {
   "cell_type": "code",
   "execution_count": 4,
   "metadata": {},
   "outputs": [
    {
     "data": {
      "text/plain": [
       "[5, 2.3, 'gatto']"
      ]
     },
     "execution_count": 4,
     "metadata": {},
     "output_type": "execute_result"
    }
   ],
   "source": [
    "[1, 2, 5, 2.3, \"gatto\", \"cipolla\", True][2:5] #restituisce gli elementi da 2 a 4"
   ]
  },
  {
   "cell_type": "code",
   "execution_count": 6,
   "metadata": {
    "scrolled": true
   },
   "outputs": [
    {
     "data": {
      "text/plain": [
       "[5, 2.3, 'gatto', 'cipolla', True]"
      ]
     },
     "execution_count": 6,
     "metadata": {},
     "output_type": "execute_result"
    }
   ],
   "source": [
    "[1, 2, 5, 2.3, \"gatto\", \"cipolla\", True][2:] #restituisce gli elementi da 2 in poi"
   ]
  },
  {
   "cell_type": "code",
   "execution_count": 7,
   "metadata": {},
   "outputs": [
    {
     "data": {
      "text/plain": [
       "[1, 2, 5, 2.3]"
      ]
     },
     "execution_count": 7,
     "metadata": {},
     "output_type": "execute_result"
    }
   ],
   "source": [
    "[1, 2, 5, 2.3, \"gatto\", \"cipolla\", True][:4] #restituisce gli elementi fino a 3"
   ]
  },
  {
   "cell_type": "code",
   "execution_count": 8,
   "metadata": {},
   "outputs": [
    {
     "data": {
      "text/plain": [
       "[1, 5, 'gatto', True]"
      ]
     },
     "execution_count": 8,
     "metadata": {},
     "output_type": "execute_result"
    }
   ],
   "source": [
    "[1, 2, 5, 2.3, \"gatto\", \"cipolla\", True][::2] #restituisce tutti gli elementi in posizioni pari"
   ]
  },
  {
   "cell_type": "markdown",
   "metadata": {},
   "source": [
    "Il passo può essere anche negativo! "
   ]
  },
  {
   "cell_type": "code",
   "execution_count": 10,
   "metadata": {},
   "outputs": [
    {
     "data": {
      "text/plain": [
       "[True, 'cipolla', 'gatto', 2.3, 5, 2, 1]"
      ]
     },
     "execution_count": 10,
     "metadata": {},
     "output_type": "execute_result"
    }
   ],
   "source": [
    "[1, 2, 5, 2.3, \"gatto\", \"cipolla\", True][::-1] #Restituisce la lista al contrario"
   ]
  },
  {
   "cell_type": "markdown",
   "metadata": {},
   "source": [
    "L'indice -1 corrisponde all'ultimo elemento della lista, -2 al penultimo e così via"
   ]
  },
  {
   "cell_type": "code",
   "execution_count": 11,
   "metadata": {},
   "outputs": [
    {
     "data": {
      "text/plain": [
       "True"
      ]
     },
     "execution_count": 11,
     "metadata": {},
     "output_type": "execute_result"
    }
   ],
   "source": [
    "[1, 2, 5, 2.3, \"gatto\", \"cipolla\", True][-1]"
   ]
  },
  {
   "cell_type": "code",
   "execution_count": 12,
   "metadata": {},
   "outputs": [
    {
     "data": {
      "text/plain": [
       "'cipolla'"
      ]
     },
     "execution_count": 12,
     "metadata": {},
     "output_type": "execute_result"
    }
   ],
   "source": [
    "[1, 2, 5, 2.3, \"gatto\", \"cipolla\", True][-2]"
   ]
  },
  {
   "cell_type": "markdown",
   "metadata": {},
   "source": [
    "### Tuple\n",
    "le tuple sono iterabili **ordinati** ma **immutabili**, questo vuol dire che una volta creata una tupla può essere solo letta. Le tuple si indicano con **( )** al cui interno ci sono gli elementi separati da virgola"
   ]
  },
  {
   "cell_type": "code",
   "execution_count": 13,
   "metadata": {},
   "outputs": [
    {
     "data": {
      "text/plain": [
       "(1, 2, 5, 2.3, 'gatto', 'cipolla', True)"
      ]
     },
     "execution_count": 13,
     "metadata": {},
     "output_type": "execute_result"
    }
   ],
   "source": [
    "(1, 2, 5, 2.3, \"gatto\", \"cipolla\", True)"
   ]
  },
  {
   "cell_type": "code",
   "execution_count": 14,
   "metadata": {},
   "outputs": [
    {
     "data": {
      "text/plain": [
       "tuple"
      ]
     },
     "execution_count": 14,
     "metadata": {},
     "output_type": "execute_result"
    }
   ],
   "source": [
    "type((1, 2, 5, 2.3, \"gatto\", \"cipolla\", True))"
   ]
  },
  {
   "cell_type": "code",
   "execution_count": 17,
   "metadata": {},
   "outputs": [
    {
     "data": {
      "text/plain": [
       "(2.3, 'gatto')"
      ]
     },
     "execution_count": 17,
     "metadata": {},
     "output_type": "execute_result"
    }
   ],
   "source": [
    "(1, 2, 5, 2.3, \"gatto\", \"cipolla\", True)[3:5]"
   ]
  },
  {
   "cell_type": "markdown",
   "metadata": {},
   "source": [
    "### Set\n",
    "I set sono invece **non ordinati** e **mutabili**. Questo significa che non è possibile accedere ai singoli elementi tramite un indice numerico. In più ciascun elemento in un set è presente solo una volta, anche se alla sua creazione è specificato il contrario. Sono in sostanza degli insiemi nella definizione classica. Si indicano con **{ }** intorno ai valori separati da virgola.\n",
    "\n",
    "NB: \"gatto\" viene mostrato solo una volta e l'ordine viene perso"
   ]
  },
  {
   "cell_type": "code",
   "execution_count": 20,
   "metadata": {},
   "outputs": [
    {
     "data": {
      "text/plain": [
       "{1, 2, 2.3, 5, 'cipolla', 'gatto'}"
      ]
     },
     "execution_count": 20,
     "metadata": {},
     "output_type": "execute_result"
    }
   ],
   "source": [
    "{1, 2, 5, 2.3, \"gatto\", \"cipolla\", True, \"gatto\"}"
   ]
  },
  {
   "cell_type": "code",
   "execution_count": 21,
   "metadata": {},
   "outputs": [
    {
     "data": {
      "text/plain": [
       "set"
      ]
     },
     "execution_count": 21,
     "metadata": {},
     "output_type": "execute_result"
    }
   ],
   "source": [
    "type({1, 2, 5, 2.3, \"gatto\", \"cipolla\", True, \"gatto\"})"
   ]
  },
  {
   "cell_type": "markdown",
   "metadata": {},
   "source": [
    "### Dizionari\n",
    "Un dizionario o **hashmap** è una collezione di elementi costituiti da coppie **chiave : valore** in cui le chiavi sono elementi univoci non ordinati che puntano a valori di qualsiasi tipo. Un valore può essere letto o scritto accedendo al dizionario tramite la chiave. Si crea un dizionario con la sintassi\n",
    "```python\n",
    "{key1:value, key2:value2, ..., keyn:valuen }\n",
    "```"
   ]
  },
  {
   "cell_type": "code",
   "execution_count": 22,
   "metadata": {},
   "outputs": [
    {
     "data": {
      "text/plain": [
       "{'gatto': 'felino', 'cane': 'lupino', 1: 'uno', 'due': 2.0}"
      ]
     },
     "execution_count": 22,
     "metadata": {},
     "output_type": "execute_result"
    }
   ],
   "source": [
    "{\"gatto\":\"felino\", \"cane\":\"lupino\", 1:\"uno\", \"due\":2.0}"
   ]
  },
  {
   "cell_type": "code",
   "execution_count": 23,
   "metadata": {},
   "outputs": [
    {
     "data": {
      "text/plain": [
       "dict"
      ]
     },
     "execution_count": 23,
     "metadata": {},
     "output_type": "execute_result"
    }
   ],
   "source": [
    "type({\"gatto\":\"felino\", \"cane\":\"lupino\", 1:\"uno\", \"due\":2.0})"
   ]
  },
  {
   "cell_type": "code",
   "execution_count": 25,
   "metadata": {},
   "outputs": [
    {
     "data": {
      "text/plain": [
       "'felino'"
      ]
     },
     "execution_count": 25,
     "metadata": {},
     "output_type": "execute_result"
    }
   ],
   "source": [
    "{\"gatto\":\"felino\", \"cane\":\"lupino\", 1:\"uno\", \"due\":2.0}[\"gatto\"]"
   ]
  },
  {
   "cell_type": "markdown",
   "metadata": {},
   "source": [
    "possiamo accedere alle chiavi di un dizionario con la relativa funzione keys(), ai valori con values() ed alle coppie chiave:valore con items(). Tutte queste funzioni restituiscono altri iterabili (approfondimento in seguito)."
   ]
  },
  {
   "cell_type": "code",
   "execution_count": 26,
   "metadata": {},
   "outputs": [
    {
     "data": {
      "text/plain": [
       "dict_keys(['gatto', 'cane', 1, 'due'])"
      ]
     },
     "execution_count": 26,
     "metadata": {},
     "output_type": "execute_result"
    }
   ],
   "source": [
    "{\"gatto\":\"felino\", \"cane\":\"lupino\", 1:\"uno\", \"due\":2.0}.keys()"
   ]
  },
  {
   "cell_type": "code",
   "execution_count": 27,
   "metadata": {},
   "outputs": [
    {
     "data": {
      "text/plain": [
       "dict_values(['felino', 'lupino', 'uno', 2.0])"
      ]
     },
     "execution_count": 27,
     "metadata": {},
     "output_type": "execute_result"
    }
   ],
   "source": [
    "{\"gatto\":\"felino\", \"cane\":\"lupino\", 1:\"uno\", \"due\":2.0}.values()"
   ]
  },
  {
   "cell_type": "code",
   "execution_count": 28,
   "metadata": {},
   "outputs": [
    {
     "data": {
      "text/plain": [
       "dict_items([('gatto', 'felino'), ('cane', 'lupino'), (1, 'uno'), ('due', 2.0)])"
      ]
     },
     "execution_count": 28,
     "metadata": {},
     "output_type": "execute_result"
    }
   ],
   "source": [
    "{\"gatto\":\"felino\", \"cane\":\"lupino\", 1:\"uno\", \"due\":2.0}.items()"
   ]
  },
  {
   "cell_type": "markdown",
   "metadata": {},
   "source": [
    "## Variabili\n",
    "fino ad ora abbiamo eseguito singole linee di codice che restituivano un risultato. I letterali restituiscono sè stessi, mentre la funzione type ci ha restituito il tipo del letterale che abbiamo inserito tra le parentesi tonde.\n",
    "\n",
    "Se si vuole conservare un valore per poterlo utilizzare all'interno del codice e per poterlo manipolare, questo deve essere assegnato ad una **variabile**, questo significa sostanzialmente dargli un nome. \n",
    "\n",
    "Una espressione di assegnazione si scrive come\n",
    "```python\n",
    "nome = valore\n",
    "```\n",
    "e si legge come: \"assegna valore alla variabile nome\", leggendo quindi da destra verso sinistra, con il simbolo = che significa **assegnare**.\n",
    "\n",
    "Vediamo un esempio, assegnando alla variabile a il valore di 1"
   ]
  },
  {
   "cell_type": "code",
   "execution_count": 29,
   "metadata": {},
   "outputs": [],
   "source": [
    "a = 1"
   ]
  },
  {
   "cell_type": "markdown",
   "metadata": {},
   "source": [
    "Eseguendo questa cella non viene mostrato alcun risultato, ma ora il nome \"a\" contiene 1:"
   ]
  },
  {
   "cell_type": "code",
   "execution_count": 30,
   "metadata": {},
   "outputs": [
    {
     "data": {
      "text/plain": [
       "1"
      ]
     },
     "execution_count": 30,
     "metadata": {},
     "output_type": "execute_result"
    }
   ],
   "source": [
    "a"
   ]
  },
  {
   "cell_type": "markdown",
   "metadata": {},
   "source": [
    "Per usarlo possiamo quindi nominare direttamente la variabile per raggiungere il valore da essa puntato. (Consiste sostanzialmente ad una posizione fisica dentro la memoria RAM)"
   ]
  },
  {
   "cell_type": "code",
   "execution_count": 31,
   "metadata": {},
   "outputs": [
    {
     "data": {
      "text/plain": [
       "2"
      ]
     },
     "execution_count": 31,
     "metadata": {},
     "output_type": "execute_result"
    }
   ],
   "source": [
    "a + 1"
   ]
  },
  {
   "cell_type": "markdown",
   "metadata": {},
   "source": [
    "Una variabile può contenere un valore per volta, una nuova assegnazione ne sovrascrive il contenuto:"
   ]
  },
  {
   "cell_type": "code",
   "execution_count": 32,
   "metadata": {},
   "outputs": [],
   "source": [
    "a = 2"
   ]
  },
  {
   "cell_type": "code",
   "execution_count": 33,
   "metadata": {},
   "outputs": [
    {
     "data": {
      "text/plain": [
       "2"
      ]
     },
     "execution_count": 33,
     "metadata": {},
     "output_type": "execute_result"
    }
   ],
   "source": [
    "a"
   ]
  },
  {
   "cell_type": "code",
   "execution_count": 34,
   "metadata": {},
   "outputs": [],
   "source": [
    "a = \"lamantino\""
   ]
  },
  {
   "cell_type": "code",
   "execution_count": 35,
   "metadata": {},
   "outputs": [
    {
     "data": {
      "text/plain": [
       "'lamantino'"
      ]
     },
     "execution_count": 35,
     "metadata": {},
     "output_type": "execute_result"
    }
   ],
   "source": [
    "a"
   ]
  },
  {
   "cell_type": "markdown",
   "metadata": {},
   "source": [
    "### Stringhe come liste\n",
    "È importante sapere ora che le stringhe possono essere viste anche come liste di singoli caratteri, quindi condividono con le liste la possibilità di accesso tramite indice numerico e di effettuare lo slicing:"
   ]
  },
  {
   "cell_type": "code",
   "execution_count": 37,
   "metadata": {},
   "outputs": [
    {
     "data": {
      "text/plain": [
       "'s'"
      ]
     },
     "execution_count": 37,
     "metadata": {},
     "output_type": "execute_result"
    }
   ],
   "source": [
    "s = \"il gatto è sul tavolo\"\n",
    "s[11]"
   ]
  },
  {
   "cell_type": "code",
   "execution_count": 38,
   "metadata": {},
   "outputs": [
    {
     "data": {
      "text/plain": [
       "' gatto è s'"
      ]
     },
     "execution_count": 38,
     "metadata": {},
     "output_type": "execute_result"
    }
   ],
   "source": [
    "s[2:12]"
   ]
  },
  {
   "cell_type": "code",
   "execution_count": 39,
   "metadata": {},
   "outputs": [
    {
     "data": {
      "text/plain": [
       "'olovat lus è ottag li'"
      ]
     },
     "execution_count": 39,
     "metadata": {},
     "output_type": "execute_result"
    }
   ],
   "source": [
    "s[::-1]"
   ]
  },
  {
   "cell_type": "code",
   "execution_count": null,
   "metadata": {},
   "outputs": [],
   "source": []
  }
 ],
 "metadata": {
  "kernelspec": {
   "display_name": "Python 3",
   "language": "python",
   "name": "python3"
  },
  "language_info": {
   "codemirror_mode": {
    "name": "ipython",
    "version": 3
   },
   "file_extension": ".py",
   "mimetype": "text/x-python",
   "name": "python",
   "nbconvert_exporter": "python",
   "pygments_lexer": "ipython3",
   "version": "3.6.7"
  }
 },
 "nbformat": 4,
 "nbformat_minor": 4
}
